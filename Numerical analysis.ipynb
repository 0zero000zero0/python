{
 "cells": [
  {
   "cell_type": "code",
   "execution_count": 27,
   "metadata": {},
   "outputs": [],
   "source": [
    "import  numpy as np\n",
    "import  scipy as sp"
   ]
  },
  {
   "cell_type": "code",
   "execution_count": 32,
   "metadata": {},
   "outputs": [
    {
     "name": "stdout",
     "output_type": "stream",
     "text": [
      "mine\n",
      "[[1.         0.5        0.5       ]\n",
      " [0.         1.         0.        ]\n",
      " [0.         2.33333333 1.        ]]\n",
      "[[2 0 0]\n",
      " [4 3 3]\n",
      " [8 0 2]]\n",
      "scipy\n",
      "[[1.         0.         0.        ]\n",
      " [0.25       1.         0.        ]\n",
      " [0.5        0.66666667 1.        ]]\n",
      "[[ 8.          7.          9.        ]\n",
      " [ 0.         -0.75       -1.25      ]\n",
      " [ 0.          0.         -0.66666667]]\n"
     ]
    }
   ],
   "source": [
    "#矩阵LU分解\n",
    "from scipy.linalg import lu\n",
    "\n",
    "\n",
    "def Doolittle(A:np.ndarray):\n",
    "    \"\"\"\n",
    "    Performs LU Decomposition of a square matrix A using the Doolittle method.\n",
    "    The function returns L and U, where A = L*U, L is a lower triangular matrix\n",
    "    with unit diagonal elements, and U is an upper triangular matrix.\n",
    "    \"\"\"\n",
    "    n = A.shape[0]\n",
    "    L = np.eye(n,n)\n",
    "    U = np.zeros_like(A)\n",
    "    U[:,0]=A[:,0] #U的第一行等于A的第一行\n",
    "    L[0,:]=A[0,:]/U[0,0] #L的第一列等于A的第一列除以U的第一行\n",
    "    for i in range(1,n):\n",
    "        for j in range(i, n):\n",
    "            U[i, j] = A[i, j] - L[i, :i] @ U[:i, j]\n",
    "        for j in range(i + 1, n):\n",
    "            L[j, i] = (A[j, i] - L[j,:i]@U[:i,i]) / U[i, i]\n",
    "    return L, U\n",
    "\n",
    "A = np.array([[2, 1, 1], [4, 3, 3], [8, 7, 9]])\n",
    "L, U = Doolittle(A)\n",
    "b = np.array([1, 2, 3])\n",
    "# print(f\"mine:{np.linalg.inv(L)@np.linalg.inv(U)@b}\")\n",
    "# print(f\"numpy:{np.linalg.solve(A, b)}\")\n",
    "print(f\"mine\\n{L}\\n{U}\")\n",
    "p,l,u=lu(A)\n",
    "print(f\"scipy\\n{l}\\n{u}\")"
   ]
  }
 ],
 "metadata": {
  "kernelspec": {
   "display_name": "Python 3",
   "language": "python",
   "name": "python3"
  },
  "language_info": {
   "codemirror_mode": {
    "name": "ipython",
    "version": 3
   },
   "file_extension": ".py",
   "mimetype": "text/x-python",
   "name": "python",
   "nbconvert_exporter": "python",
   "pygments_lexer": "ipython3",
   "version": "3.10.12"
  }
 },
 "nbformat": 4,
 "nbformat_minor": 2
}

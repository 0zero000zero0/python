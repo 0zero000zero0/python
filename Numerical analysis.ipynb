{
 "cells": [
  {
   "cell_type": "code",
   "execution_count": 2,
   "metadata": {},
   "outputs": [],
   "source": [
    "import  numpy as np"
   ]
  },
  {
   "cell_type": "code",
   "execution_count": 5,
   "metadata": {},
   "outputs": [
    {
     "name": "stdout",
     "output_type": "stream",
     "text": [
      "[-0.5  1.5 -1. ]\n",
      "[ 0.5  0.5 -0.5]\n"
     ]
    }
   ],
   "source": [
    "#矩阵LU分解\n",
    "def LU(A: np.ndarray):\n",
    "    n = len(A)\n",
    "    L = np.eye(n)\n",
    "    U = A.copy()\n",
    "    for i in range(n-1):\n",
    "        for j in range(i+1, n):\n",
    "            L[j, i] = U[j, i]/U[i, i]\n",
    "            U[j, i:] = U[j, i:]-L[j, i]*U[i, i:]\n",
    "    return L, U\n",
    "\n",
    "A = np.array([[2, 1, 1], [4, 3, 3], [8, 7, 9]])\n",
    "L, U = LU(A)\n",
    "b = np.array([1, 2, 3])\n",
    "print(np.linalg.inv(L)@np.linalg.inv(U)@b)\n",
    "print(np.linalg.solve(A, b))"
   ]
  }
 ],
 "metadata": {
  "kernelspec": {
   "display_name": "Python 3",
   "language": "python",
   "name": "python3"
  },
  "language_info": {
   "codemirror_mode": {
    "name": "ipython",
    "version": 3
   },
   "file_extension": ".py",
   "mimetype": "text/x-python",
   "name": "python",
   "nbconvert_exporter": "python",
   "pygments_lexer": "ipython3",
   "version": "3.10.12"
  }
 },
 "nbformat": 4,
 "nbformat_minor": 2
}

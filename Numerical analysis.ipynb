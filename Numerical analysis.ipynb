{
 "cells": [
  {
   "cell_type": "code",
   "execution_count": 2,
   "metadata": {},
   "outputs": [],
   "source": [
    "import  numpy as np\n",
    "import  scipy as sp"
   ]
  },
  {
   "cell_type": "code",
   "execution_count": 15,
   "metadata": {},
   "outputs": [
    {
     "name": "stdout",
     "output_type": "stream",
     "text": [
      "Doolittle\n",
      "[[1. 0. 0.]\n",
      " [2. 1. 0.]\n",
      " [4. 3. 1.]]\n",
      "[[2 1 1]\n",
      " [0 1 1]\n",
      " [0 0 2]]\n",
      "Crout\n",
      "[[2 0 0]\n",
      " [4 1 0]\n",
      " [8 3 2]]\n",
      "[[1.  0.5 0.5]\n",
      " [0.  1.  1. ]\n",
      " [0.  0.  1. ]]\n"
     ]
    }
   ],
   "source": [
    "#矩阵LU分解\n",
    "from scipy.linalg import lu\n",
    "def Doolittle(A:np.ndarray):\n",
    "    \"\"\"\n",
    "    Performs LU Decomposition of a square matrix A using the Doolittle method.\n",
    "    The function returns L and U, where A = L*U, L is a lower triangular matrix\n",
    "    with unit diagonal elements, and U is an upper triangular matrix.\n",
    "    \"\"\"\n",
    "    n = A.shape[0]\n",
    "    L = np.eye(n,n)\n",
    "    U = np.zeros_like(A)\n",
    "    for i in range(0,n):\n",
    "        U[i,:]=A[i,:]-L[i,:i]@U[:i,:] # U的第i行等于A的第i行减去L的前i行与U前i行的线性变换\n",
    "        L[:,i]=(A[:,i]-L[:, :i]@U[:i,i])/U[i,i] # L的第i列等于A的第i列减去L的前i列与U第i列的线性变换\n",
    "    return L, U\n",
    "def Crout(A:np.ndarray):\n",
    "    \"\"\"\n",
    "    Performs LU Decomposition of a square matrix A using the Crout method.\n",
    "    The function returns L and U, where A = L*U, L is a lower triangular matrix\n",
    "    with unit diagonal elements, and U is an upper triangular matrix.\n",
    "    \"\"\"\n",
    "    n = A.shape[0]\n",
    "    L = np.zeros_like(A)\n",
    "    U = np.eye(n,n)\n",
    "    for i in range(0,n):\n",
    "        L[i:,i]=A[i:,i]-L[i:,:i]@U[:i,i] # L的第i列等于A的第i列减去L的前i列与U第i列的线性变换\n",
    "        U[i,i+1:]=(A[i,i+1:]-L[i,:i]@U[:i,i+1:])/L[i,i] # U的第i行等于A的第i行减去L的前i行与U前i行的线性变换\n",
    "\n",
    "    return L, U\n",
    "\n",
    "A = np.array([[2, 1, 1], [4, 3, 3], [8, 7, 9]])\n",
    "L0,U0=Doolittle(A)\n",
    "L1,U1=Crout(A)\n",
    "b = np.array([1, 2, 3])\n",
    "# print(f\"mine:{np.linalg.inv(L)@np.linalg.inv(U)@b}\")\n",
    "# print(f\"numpy:{np.linalg.solve(A, b)}\")\n",
    "print(f\"Doolittle\\n{L0}\\n{U0}\")\n",
    "print(f\"Crout\\n{L1}\\n{U1}\")"
   ]
  }
 ],
 "metadata": {
  "kernelspec": {
   "display_name": "Python 3",
   "language": "python",
   "name": "python3"
  },
  "language_info": {
   "codemirror_mode": {
    "name": "ipython",
    "version": 3
   },
   "file_extension": ".py",
   "mimetype": "text/x-python",
   "name": "python",
   "nbconvert_exporter": "python",
   "pygments_lexer": "ipython3",
   "version": "3.10.12"
  }
 },
 "nbformat": 4,
 "nbformat_minor": 2
}

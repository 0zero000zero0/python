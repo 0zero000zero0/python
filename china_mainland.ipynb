{
 "cells": [
  {
   "cell_type": "code",
   "execution_count": 1,
   "metadata": {},
   "outputs": [],
   "source": [
    "import os\n",
    "import requests\n",
    "import pandas as pd\n",
    "import torch"
   ]
  },
  {
   "cell_type": "code",
   "execution_count": 2,
   "metadata": {},
   "outputs": [],
   "source": [
    "china_excel_path='china_mainland.xlsx'\n",
    "china_df=pd.read_excel(china_excel_path,)"
   ]
  },
  {
   "cell_type": "code",
   "execution_count": 3,
   "metadata": {},
   "outputs": [
    {
     "data": {
      "text/plain": [
       "Index(['Unnamed: 0', 'Registered number', 'FirstProve', 'Period',\n",
       "       'ProductName', 'Toxicity', 'Formulation', '农药名称', '剂型', '农药类别',\n",
       "       '总有效成分含量', '有效成分', '有效成分英文名', '有效成分含量', '作物/场所', '防治对象', '用药量（制剂量/亩）',\n",
       "       '施用方法', '使用技术要求:', '产品性能:', '注意事项：', '中毒急救措施：', '储存和运输方法：', '农药名称英语',\n",
       "       '农药类别英语', '使用技术要求英语', '产品性能英语', '注意事项英语', '中毒急救措施英语', '储存和运输方法英语',\n",
       "       '作物/场所英语', '防治对象英语', '施用方法英语', '图片'],\n",
       "      dtype='object')"
      ]
     },
     "execution_count": 3,
     "metadata": {},
     "output_type": "execute_result"
    }
   ],
   "source": [
    "china_df.columns"
   ]
  },
  {
   "cell_type": "code",
   "execution_count": 7,
   "metadata": {},
   "outputs": [
    {
     "data": {
      "text/plain": [
       "'根腐病\\n胡麻斑病\\n叶斑病\\n'"
      ]
     },
     "execution_count": 7,
     "metadata": {},
     "output_type": "execute_result"
    }
   ],
   "source": [
    "china_df.loc[4, '防治对象']"
   ]
  }
 ],
 "metadata": {
  "kernelspec": {
   "display_name": "Python 3",
   "language": "python",
   "name": "python3"
  },
  "language_info": {
   "codemirror_mode": {
    "name": "ipython",
    "version": 3
   },
   "file_extension": ".py",
   "mimetype": "text/x-python",
   "name": "python",
   "nbconvert_exporter": "python",
   "pygments_lexer": "ipython3",
   "version": "3.10.12"
  }
 },
 "nbformat": 4,
 "nbformat_minor": 2
}

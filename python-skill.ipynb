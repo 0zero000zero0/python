{
 "cells": [
  {
   "cell_type": "markdown",
   "metadata": {},
   "source": [
    "## 视频\n",
    "B站up主[__阿岳__](https://space.bilibili.com/480804525)的python技巧系列视频"
   ]
  },
  {
   "cell_type": "code",
   "execution_count": 6,
   "metadata": {},
   "outputs": [
    {
     "name": "stdout",
     "output_type": "stream",
     "text": [
      "[0, 2, 4, 6, 8]\n",
      "{1: 2, 2: 4, 3: 6, 7: 14, 8: 16, 9: 18}\n"
     ]
    }
   ],
   "source": [
    "# 2 推导式\n",
    "import  math\n",
    "test_list=[i for i in range(10) if i%2==0]\n",
    "test_dict={i:i*2 for i in range(10) if math.sin(i)>0 }\n",
    "print(test_list)\n",
    "print(test_dict)"
   ]
  },
  {
   "cell_type": "code",
   "execution_count": 24,
   "metadata": {},
   "outputs": [
    {
     "name": "stdout",
     "output_type": "stream",
     "text": [
      "24157817\n",
      "普通递归耗时： 1.3166637420654297\n",
      "24157817\n",
      "缓冲递归耗时： 3.695487976074219e-05\n"
     ]
    }
   ],
   "source": [
    "# 10 一行代码提升递推速度\n",
    "import  time\n",
    "from functools import lru_cache\n",
    "def fib(n):\n",
    "    return n if n<=2 else fib(n-1)+fib(n-2)\n",
    "@lru_cache(maxsize=None,typed=False)#least recently used 最近最少使用 ，maxsize最大缓存数，None表示无限制，typed表示不同参数类型分开存储#least \n",
    "def Decorated_fib(n):\n",
    "    return n if n<=2 else Decorated_fib(n-1)+Decorated_fib(n-2)\n",
    "        \n",
    "n=36\n",
    "start = time.time()\n",
    "print(fib(n))\n",
    "end = time.time()\n",
    "print(\"普通递归耗时：\", end-start)\n",
    "\n",
    "\n",
    "start = time.time()\n",
    "print(Decorated_fib(n))\n",
    "end = time.time()\n",
    "print(\"缓冲递归耗时：\", end-start)"
   ]
  },
  {
   "cell_type": "code",
   "execution_count": 3,
   "metadata": {},
   "outputs": [
    {
     "data": {
      "text/plain": [
       "Counter({'👊': 2, '😊': 2, '😘': 2, '👌': 1, '🤦': 1})"
      ]
     },
     "execution_count": 3,
     "metadata": {},
     "output_type": "execute_result"
    }
   ],
   "source": [
    "# 13 Counter 计数器\n",
    "from collections import Counter\n",
    "test_list=['👊','😊','👌','😘','🤦','😘','😊','👊']\n",
    "count=Counter(test_list)\n",
    "# Counter 通过字典实现，使用hash表存储，key为元素，value为元素出现的次数\n",
    "count"
   ]
  },
  {
   "cell_type": "code",
   "execution_count": 27,
   "metadata": {},
   "outputs": [
    {
     "data": {
      "text/plain": [
       "[1, 2, 3, 4, 5]"
      ]
     },
     "execution_count": 27,
     "metadata": {},
     "output_type": "execute_result"
    }
   ],
   "source": [
    "# 14 双端队列\n",
    "from collections import deque\n",
    "class TreeNode:\n",
    "    def __init__(self,val):\n",
    "        self.val=val\n",
    "        self.left:TreeNode=None\n",
    "        self.right:TreeNode=None\n",
    "\n",
    "def dfs(root: TreeNode):#深度优先搜索\n",
    "    if root is None:\n",
    "        return []\n",
    "    q=deque([root])#双端队列，可以从两端快速添加和删除元素\n",
    "    res=[]\n",
    "    while q:\n",
    "        node=q.popleft()\n",
    "        res.append(node.val)\n",
    "        if node.left:\n",
    "            q.append(node.left)\n",
    "        if node.right:\n",
    "            q.append(node.right)\n",
    "    return res\n",
    "root=TreeNode(1)\n",
    "n1=TreeNode(2)\n",
    "n2=TreeNode(3)\n",
    "n3=TreeNode(4)\n",
    "n4=TreeNode(5)\n",
    "root.left=n1\n",
    "root.right=n2\n",
    "n1.left=n3\n",
    "n1.right=n4\n",
    "dfs(root)"
   ]
  },
  {
   "cell_type": "code",
   "execution_count": 2,
   "metadata": {},
   "outputs": [
    {
     "name": "stdout",
     "output_type": "stream",
     "text": [
      "yes1\n",
      "no1\n",
      "yes2\n"
     ]
    }
   ],
   "source": [
    "# 15 三目运算符号\n",
    "# A if C else B\n",
    "# 如果条件C满足，则返回A否则返回B\n",
    "a=15\n",
    "a == 15 if print(\"yes1\") else print(\"no1\")\n",
    "print(\"yes2\") if a == 15 else print(\"no2\")\n",
    "#短路机制"
   ]
  },
  {
   "cell_type": "code",
   "execution_count": 12,
   "metadata": {},
   "outputs": [
    {
     "name": "stdout",
     "output_type": "stream",
     "text": [
      "翻转后：[5, 4, 3, 2, 1]\n",
      "翻转后：[5, 4, 3, 2, 1]\n",
      "翻转后：[5, 4, 3, 2, 1]\n",
      "第0个元素是：5 , 第1个元素是：4 , 第2个元素是：3 , 第3个元素是：2 , 第4个元素是：1 , "
     ]
    }
   ],
   "source": [
    "# 17 快速翻转\n",
    "# 通过切片实现 返回一个新的列表\n",
    "test_list=[1,2,3,4,5]\n",
    "print(f\"翻转后：{test_list[::-1]}\")\n",
    "# 通过reverse()方法实现 原地翻转\n",
    "test_list.reverse()\n",
    "print(f\"翻转后：{test_list}\")\n",
    "# 通过reversed()函数实现 返回一个迭代器\n",
    "test_list=[1,2,3,4,5]\n",
    "print(f\"翻转后：{list(reversed(test_list))}\")\n",
    "# 与emuerate()函数一起使用\n",
    "test_list=[1,2,3,4,5]\n",
    "for index,value in enumerate(reversed(test_list)):\n",
    "    print(f\"第{index}个元素是：{value}\",end=\" , \")\n"
   ]
  },
  {
   "cell_type": "code",
   "execution_count": 21,
   "metadata": {},
   "outputs": [
    {
     "name": "stdout",
     "output_type": "stream",
     "text": [
      "按年龄排序：[{'name': 'xiaozhang', 'age': 15, 'score': 88}, {'name': 'xiaoming', 'age': 18, 'score': 9}, {'name': 'xiaoli', 'age': 18, 'score': 9}, {'name': 'xiaohong', 'age': 20, 'score': 93}]\n",
      "按成绩排序：[{'name': 'xiaoming', 'age': 18, 'score': 9}, {'name': 'xiaoli', 'age': 18, 'score': 9}, {'name': 'xiaozhang', 'age': 15, 'score': 88}, {'name': 'xiaohong', 'age': 20, 'score': 93}]\n",
      "双规则排序：[{'name': 'xiaozhang', 'age': 15, 'score': 88}, {'name': 'xiaoming', 'age': 18, 'score': 9}, {'name': 'xiaoli', 'age': 18, 'score': 9}, {'name': 'xiaohong', 'age': 20, 'score': 93}]\n"
     ]
    }
   ],
   "source": [
    "# 18 自定义排序\n",
    "# 通过sorted()函数实现 返回新的列表\n",
    "dict_list=[{\"name\":\"xiaoming\",\"age\":18,'score':9},{\"name\":\"xiaohong\",\"age\":20,'score':93},{\"name\":\"xiaozhang\",\"age\":15,\"score\":88},{\"name\":\"xiaoli\",\"age\":18,\"score\":9}]\n",
    "print(f\"按年龄排序：{sorted(dict_list,key=lambda x:x['age'])}\")\n",
    "print(f\"按成绩排序：{sorted(dict_list,key=lambda x:x['score'])}\")\n",
    "from functools import cmp_to_key\n",
    "# 双规则排序 引入cmp_to_key()函数，然后定义一个比较函数，返回值为-1,0,1，最后传入sorted()函数\n",
    "def cmp(a,b):\n",
    "    if a['age']==b['age']:\n",
    "        return a['score']>b['score']\n",
    "    return a['age']-b['age']\n",
    "print(f\"双规则排序：{sorted(dict_list,key=cmp_to_key(cmp))}\")"
   ]
  },
  {
   "cell_type": "code",
   "execution_count": 23,
   "metadata": {},
   "outputs": [
    {
     "name": "stdout",
     "output_type": "stream",
     "text": [
      "ZeroDivisionError: division by zero\n",
      "finally\n"
     ]
    },
    {
     "name": "stderr",
     "output_type": "stream",
     "text": [
      "Traceback (most recent call last):\n",
      "  File \"/tmp/ipykernel_162804/3617981164.py\", line 6, in <module>\n",
      "    f()\n",
      "  File \"/tmp/ipykernel_162804/3617981164.py\", line 4, in f\n",
      "    print(1/0)\n",
      "ZeroDivisionError: division by zero\n",
      "NoneType: None\n"
     ]
    }
   ],
   "source": [
    "# 20 异常处理\n",
    "import traceback\n",
    "def f():\n",
    "    print(1/0)\n",
    "try:\n",
    "    f()\n",
    "except ValueError as e:\n",
    "    ...\n",
    "except ZeroDivisionError as e:\n",
    "    print(\"ZeroDivisionError:\",e)\n",
    "    traceback.print_exc()#打印全部错误信息，包括行数，错误原因和错误类型\n",
    "except Exception as e:\n",
    "    ...\n",
    "finally:\n",
    "    print(\"finally\")\n",
    "    traceback.print_exc()"
   ]
  },
  {
   "cell_type": "code",
   "execution_count": 31,
   "metadata": {},
   "outputs": [
    {
     "name": "stdout",
     "output_type": "stream",
     "text": [
      "i=0,j=0\n",
      "i=0,j=1\n",
      "i=0,j=2\n",
      "i=0,j=3\n",
      "i=0,j=4\n",
      "i=1,j=0\n",
      "i=1,j=1\n",
      "done\n"
     ]
    }
   ],
   "source": [
    "# 21 退出多层循环\n",
    "# 通过标签实现\n",
    "for i in range(5):\n",
    "    for j in range(5):\n",
    "        if i==3 and j==3:\n",
    "            break\n",
    "    else:\n",
    "        continue\n",
    "    break\n",
    "#通过异常实现\n",
    "class BreakIt(Exception):\n",
    "    pass\n",
    "try:\n",
    "    for i in range(5):\n",
    "        for j in range(5):\n",
    "            print(f\"i={i},j={j}\")\n",
    "            if i==1 and j==1:\n",
    "                raise BreakIt  \n",
    "except BreakIt:\n",
    "    pass         \n",
    "finally:\n",
    "    print(\"done\")\n",
    "# for -else 语句\n",
    "for a in range(5):\n",
    "    for b in range(5):\n",
    "        if a==3 and b==3:\n",
    "            break\n",
    "    else:#当内层循环正常结束时，执行else语句\n",
    "        continue\n",
    "    break"
   ]
  },
  {
   "cell_type": "code",
   "execution_count": 34,
   "metadata": {},
   "outputs": [
    {
     "name": "stdout",
     "output_type": "stream",
     "text": [
      "[0, 2, 3]\n",
      "[1, 2, 3]\n"
     ]
    }
   ],
   "source": [
    "#22复制问题\n",
    "#浅复制\n",
    "a=[1,2,3]\n",
    "b=a\n",
    "a[0]=0\n",
    "print(b)\n",
    "# 深复制\n",
    "import copy\n",
    "a=[1,2,3]\n",
    "b=copy.deepcopy(a)\n",
    "a[0]=0\n",
    "print(b)\n"
   ]
  },
  {
   "cell_type": "code",
   "execution_count": 40,
   "metadata": {},
   "outputs": [
    {
     "name": "stdout",
     "output_type": "stream",
     "text": [
      "inf\n",
      "True\n",
      "inf=inf\n",
      "inf=-inf\n"
     ]
    }
   ],
   "source": [
    "# 23 inf\n",
    "inf=float(\"inf\")#正无穷\n",
    "print(f\"{inf=}\")\n",
    "inf=-float(\"inf\")\n",
    "print(f\"{inf=}\")\n",
    "# 处理边界问题时使用\n",
    "# 与math的f"
   ]
  }
 ],
 "metadata": {
  "kernelspec": {
   "display_name": "Python 3",
   "language": "python",
   "name": "python3"
  },
  "language_info": {
   "codemirror_mode": {
    "name": "ipython",
    "version": 3
   },
   "file_extension": ".py",
   "mimetype": "text/x-python",
   "name": "python",
   "nbconvert_exporter": "python",
   "pygments_lexer": "ipython3",
   "version": "3.10.12"
  }
 },
 "nbformat": 4,
 "nbformat_minor": 2
}

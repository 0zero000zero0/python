{
 "cells": [
  {
   "cell_type": "code",
   "execution_count": 28,
   "metadata": {},
   "outputs": [
    {
     "name": "stdout",
     "output_type": "stream",
     "text": [
      "1 \n",
      "1 1 \n",
      "1 2 1 \n",
      "1 3 3 1 \n"
     ]
    }
   ],
   "source": [
    "# 3697 杨辉三角\n",
    "# 很牛逼的解法\n",
    "def triangle0(n):\n",
    "    l1 = [1]  # 用于存放单行结果\n",
    "    l2 = []  # 用于存放所有行的结果\n",
    "    x = []  # 用于存放sum结果的列表，需要每次清空\n",
    "    i = 0\n",
    "    for _ in range(n):\n",
    "        l2.append(l1)\n",
    "        for j in l1:\n",
    "            print(j,end=' ')\n",
    "        print(f\"\\n\") \n",
    "        for t in zip([0] + l1, l1 + [0]):  # 011+110=121,0121+1210=1331\n",
    "            x.append(sum(t))  # 通过两次sum，[(0,1),(1,0)]=[1,1]\n",
    "        l1 = x\n",
    "        x = []  \n",
    "\n",
    "# 杨辉三角一般解法\n",
    "def triangle1(n):\n",
    "    res = [] \n",
    "    for i in range(n):\n",
    "        if i == 0:\n",
    "            res.append([1])  \n",
    "        elif i == 1:\n",
    "            res.append([1, 1])  \n",
    "        else:\n",
    "            y = []  # 存储一行，每次清空\n",
    "            for j in range(i+1):\n",
    "                if j == 0 or j == i:\n",
    "                    y.append(1)  # 行首和行末为1\n",
    "                else:\n",
    "                    y.append(res[i-1][j]+res[i-1][j-1])\n",
    "            res.append(y) \n",
    "    return res\n",
    "n=int(input())\n",
    "l=triangle1(n)\n",
    "for i in l:\n",
    "    for j in i:\n",
    "        print(j,end=' ')\n",
    "    print('\\r')\n",
    "    "
   ]
  }
 ],
 "metadata": {
  "kernelspec": {
   "display_name": "Python 3",
   "language": "python",
   "name": "python3"
  },
  "language_info": {
   "codemirror_mode": {
    "name": "ipython",
    "version": 3
   },
   "file_extension": ".py",
   "mimetype": "text/x-python",
   "name": "python",
   "nbconvert_exporter": "python",
   "pygments_lexer": "ipython3",
   "version": "3.10.12"
  }
 },
 "nbformat": 4,
 "nbformat_minor": 2
}

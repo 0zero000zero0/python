{
 "cells": [
  {
   "cell_type": "code",
   "execution_count": 7,
   "metadata": {},
   "outputs": [],
   "source": [
    "import  torch\n",
    "import  networkx as nx\n",
    "import  pandas as pd\n",
    "from torch_geometric.data import Data\n",
    "import  numpy as np\n",
    "\n",
    "import matplotlib.pyplot as plt\n"
   ]
  },
  {
   "cell_type": "markdown",
   "metadata": {},
   "source": [
    "## PyG\n",
    "### data\n",
    "**torch_geometric.data**中定义一些基本的图神经网络对象，最基本的两个是Data(同构图)和HeteroData()\n",
    "#### Data(同构图)\n",
    "Data把 **结点** 和 **边** 分开存储，类似与字典的键值对\n",
    "\\\n",
    "构造函数Data对象:\n",
    "```python\n",
    "class Data(x: Optional[Tensor] = None, edge_index: Optional[Tensor] = None, edge_attr: Optional[Tensor] = None, y: Optional[Union[Tensor, int, float]] = None, pos: Optional[Tensor] = None, time: Optional[Tensor] = None, **kwargs)\n",
    "```\n",
    "\\\n",
    "参数含义:\n",
    "- `x`:是结点特征，形状为`[num_nodes, num_node_features]`\n",
    "- `edge_index`:图的边连接 ， COO形式([source1,source2....],[target1,target2....])，形状为`[2, num_edges] `，默认数据类型:`torch.long`\n",
    "- `edge_attr`:边的特征矩阵，形状为` [num_edges, num_edge_features]`\n",
    "- `y`:训练目标/标签（可能有任意形状），例如结点训练目标` [num_nodes, *]` or 图层面的标签 `[1, *]`\n",
    "- `pos`: 位置矩阵 `[num_nodes, num_dimensions]`。pos 保存了节点在空间中的坐标，形状为 `[num_nodes, num_dimensions]`，其中 `num_nodes` 是节点的数量，`num_dimensions` 是空间的维度。例如，在2D空间的图中，pos 可能包含每个节点的 (x, y) 坐标；在3D空间中，则包含 (x, y, z)。\n",
    "- time(torch.Tensor)-每个事件的时间戳，其形状为[Num_Edges]或[Num_Nodes]。(默认：无)\n",
    "- **kwargs(可选)-其他属性。\n",
    "\n",
    "\\\n",
    "属性(类型全部为torch.Tensor):\n",
    "- data.x:结点特征 `[num_nodes, num_node_features]`\n",
    "\n",
    "- data.edge_index:图的边连接 ， COO format([source1,source2....],[target1,target2....])，`[2, num_edges] ` 数据类型:` torch.long`\n",
    "\n",
    "- data.edge_attr:边的特征矩阵 ` [num_edges, num_edge_features]`\n",
    "\n",
    "- data.y: 训练目标/标签（可能有任意形状），例如结点训练目标` [num_nodes, *]` or 图层面的标签 `[1, *]`\n",
    "\n",
    "- data.pos: 位置矩阵 `[num_nodes, num_dimensions]`\n",
    "  \n",
    "方法:\n",
    "- `to_dict()`:返回存储的键/值对的字典，其中键是图的属性，例如特征x，边连接edige_index，值是对应的矩阵\n",
    "- `to_namedtuple()`:返回存储的键/值对的NamedTuple。\n",
    "- Update`:用另一个数据对象中的元素更新数据对象。添加的元素将覆盖现有的元素（在重复的情况下）。\n",
    "\n",
    "- `__getitem__(self, key)`:用于获取图的属性。允许通过属性名作为键来访问图的任何属性，如 `data['x']` 返回节点特征矩阵。\n",
    "- `__setitem__(self, key, item)`:用于设置图的属性。可以通过这个方法为图添加新的属性或修改现有的属性，如 `data['edge_attr'] = edge_features`。\n",
    "- `__len__(self)`:返回图的节点数。这是通过检查节点特征矩阵的大小来实现的。\n",
    "\n",
    "- `__contains__(self, key)`:检查图是否包含给定的属性。\n",
    "\n",
    "- `__inc__(self, key, value)`:用于批处理时自增长某个属性的值。这通常用在 `edge_index` 上，以确保在批量处理多个图时，每个图的边索引是正确偏移的。\n",
    "\n",
    "- `__cat_dim__(self, key, value)`:指定在批处理时应该沿哪个维度合并（拼接）特定属性。例如，节点特征(`x`)通常沿节点维度合并，而边索引(`edge_index`)不合并。\n",
    "\n",
    "- `clone(self)`:返回 `Data` 对象的深拷贝。这个方法确保原始数据和拷贝数据在内存中是完全独立的。\n",
    "\n",
    "- `to(device, **kwargs)`:将 `Data` 对象中的所有张量移动到指定的设备上（如GPU）。这对于深度学习训练非常有用。\n",
    "\n",
    "-. `apply(func, *keys)`:对 `Data` 对象中的一个或多个属性应用函数 `func`。这对于数据预处理非常方便。\n",
    "\n",
    "-. `contiguous(self, *keys)`:确保一个或多个属性的存储是连续的，这通常在将数据传递给某些特定操作之前需要。\n",
    "\n",
    "-. `is_undirected(self)`:检查图是否是无向的。如果图的每条边都有对应的反向边，则认为图是无向的。\n"
   ]
  },
  {
   "cell_type": "code",
   "execution_count": 17,
   "metadata": {},
   "outputs": [
    {
     "data": {
      "text/plain": [
       "GlobalStorageTuple(x=tensor([[-0.6434,  0.2935],\n",
       "        [ 0.1403,  0.0367],\n",
       "        [-0.0707, -0.6560],\n",
       "        [-0.0719,  0.9992]]), edge_index=tensor([[0, 1, 3, 2, 3, 0],\n",
       "        [1, 0, 2, 3, 0, 3]]))"
      ]
     },
     "execution_count": 17,
     "metadata": {},
     "output_type": "execute_result"
    }
   ],
   "source": [
    "# edge_index存储方式[source1,source2....],[target1,target2.....]\n",
    "# edge_index = torch.tensor([[0, 1 ,3,1,3,2,3,0],\n",
    "#                            [1, 0 ,1,3,2,3,0,3]], dtype=torch.long)\n",
    "# 如果要用[source1,target1],[ source2,target2]来存储，则需要transpose和 contiguous\n",
    "edge_index = torch.tensor([[0, 1],\n",
    "                           [1, 0],\n",
    "                           [3, 2],\n",
    "                           [2, 3],\n",
    "                           [3,0],\n",
    "                           [0,3]], dtype=torch.long)\n",
    "edge_index=edge_index.t().contiguous()\n",
    "x = torch.randn(4, 2)\n",
    "data = Data(x=x, edge_index=edge_index)\n",
    "data.to_namedtuple()"
   ]
  },
  {
   "cell_type": "code",
   "execution_count": 9,
   "metadata": {},
   "outputs": [
    {
     "data": {
      "image/png": "[encoded data removed]",
      "text/plain": [
       "<Figure size 640x480 with 1 Axes>"
      ]
     },
     "metadata": {},
     "output_type": "display_data"
    }
   ],
   "source": [
    "# NX 可视化图\n",
    "# 创建无向图\n",
    "G = nx.Graph()\n",
    "# 添加节点\n",
    "nodes = [0,1,2,3]\n",
    "G.add_nodes_from(nodes)\n",
    "# 添加边（连接关系）\n",
    "# (第一种形式的推导式)\n",
    "edges = [(edge_index[0, i].item(), edge_index[1, i].item())\n",
    "                      for i in range(edge_index.shape[1])]\n",
    "# 第二中形式的推导式\n",
    "# edges=[tuple(x.tolist())for x in edge_index]\n",
    "G.add_edges_from(edges)\n",
    "# 可视化图\n",
    "pos = nx.spring_layout(G)  # 选择布局算法\n",
    "nx.draw(G, pos, with_labels=True, font_weight='bold', node_size=700,\n",
    "        node_color='skyblue', font_size=10, edge_color='gray')\n",
    "# 获取邻接矩阵\n",
    "adj_matrix = nx.adjacency_matrix(G)\n",
    "# 获取度矩阵\n",
    "degree_matrix = np.diag(list(dict(G.degree).values()))"
   ]
  },
  {
   "cell_type": "code",
   "execution_count": 10,
   "metadata": {},
   "outputs": [
    {
     "ename": "ServerDisconnectedError",
     "evalue": "Server disconnected",
     "output_type": "error",
     "traceback": [
      "\u001b[0;31m---------------------------------------------------------------------------\u001b[0m",
      "\u001b[0;31mServerDisconnectedError\u001b[0m                   Traceback (most recent call last)",
      "Cell \u001b[0;32mIn[10], line 6\u001b[0m\n\u001b[1;32m      3\u001b[0m \u001b[38;5;28;01mfrom\u001b[39;00m \u001b[38;5;21;01mtorch_geometric\u001b[39;00m\u001b[38;5;21;01m.\u001b[39;00m\u001b[38;5;21;01mdatasets\u001b[39;00m \u001b[38;5;28;01mimport\u001b[39;00m Planetoid\n\u001b[1;32m      5\u001b[0m \u001b[38;5;66;03m# dataset = TUDataset(root='/tmp/ENZYMES', name='ENZYMES')\u001b[39;00m\n\u001b[0;32m----> 6\u001b[0m dataset \u001b[38;5;241m=\u001b[39m \u001b[43mPlanetoid\u001b[49m\u001b[43m(\u001b[49m\u001b[43mroot\u001b[49m\u001b[38;5;241;43m=\u001b[39;49m\u001b[38;5;124;43m'\u001b[39;49m\u001b[38;5;124;43m/tmp/Cora\u001b[39;49m\u001b[38;5;124;43m'\u001b[39;49m\u001b[43m,\u001b[49m\u001b[43m \u001b[49m\u001b[43mname\u001b[49m\u001b[38;5;241;43m=\u001b[39;49m\u001b[38;5;124;43m'\u001b[39;49m\u001b[38;5;124;43mCora\u001b[39;49m\u001b[38;5;124;43m'\u001b[39;49m\u001b[43m)\u001b[49m\n\u001b[1;32m      7\u001b[0m \u001b[38;5;28mprint\u001b[39m(\u001b[38;5;28mlen\u001b[39m(dataset),dataset\u001b[38;5;241m.\u001b[39mnum_classes,dataset\u001b[38;5;241m.\u001b[39mnum_node_features)\n",
      "File \u001b[0;32m~/.local/lib/python3.10/site-packages/torch_geometric/datasets/planetoid.py:102\u001b[0m, in \u001b[0;36mPlanetoid.__init__\u001b[0;34m(self, root, name, split, num_train_per_class, num_val, num_test, transform, pre_transform, force_reload)\u001b[0m\n\u001b[1;32m     99\u001b[0m \u001b[38;5;28mself\u001b[39m\u001b[38;5;241m.\u001b[39msplit \u001b[38;5;241m=\u001b[39m split\u001b[38;5;241m.\u001b[39mlower()\n\u001b[1;32m    100\u001b[0m \u001b[38;5;28;01massert\u001b[39;00m \u001b[38;5;28mself\u001b[39m\u001b[38;5;241m.\u001b[39msplit \u001b[38;5;129;01min\u001b[39;00m [\u001b[38;5;124m'\u001b[39m\u001b[38;5;124mpublic\u001b[39m\u001b[38;5;124m'\u001b[39m, \u001b[38;5;124m'\u001b[39m\u001b[38;5;124mfull\u001b[39m\u001b[38;5;124m'\u001b[39m, \u001b[38;5;124m'\u001b[39m\u001b[38;5;124mgeom-gcn\u001b[39m\u001b[38;5;124m'\u001b[39m, \u001b[38;5;124m'\u001b[39m\u001b[38;5;124mrandom\u001b[39m\u001b[38;5;124m'\u001b[39m]\n\u001b[0;32m--> 102\u001b[0m \u001b[38;5;28;43msuper\u001b[39;49m\u001b[43m(\u001b[49m\u001b[43m)\u001b[49m\u001b[38;5;241;43m.\u001b[39;49m\u001b[38;5;21;43m__init__\u001b[39;49m\u001b[43m(\u001b[49m\u001b[43mroot\u001b[49m\u001b[43m,\u001b[49m\u001b[43m \u001b[49m\u001b[43mtransform\u001b[49m\u001b[43m,\u001b[49m\u001b[43m \u001b[49m\u001b[43mpre_transform\u001b[49m\u001b[43m,\u001b[49m\n\u001b[1;32m    103\u001b[0m \u001b[43m                 \u001b[49m\u001b[43mforce_reload\u001b[49m\u001b[38;5;241;43m=\u001b[39;49m\u001b[43mforce_reload\u001b[49m\u001b[43m)\u001b[49m\n\u001b[1;32m    104\u001b[0m \u001b[38;5;28mself\u001b[39m\u001b[38;5;241m.\u001b[39mload(\u001b[38;5;28mself\u001b[39m\u001b[38;5;241m.\u001b[39mprocessed_paths[\u001b[38;5;241m0\u001b[39m])\n\u001b[1;32m    106\u001b[0m \u001b[38;5;28;01mif\u001b[39;00m split \u001b[38;5;241m==\u001b[39m \u001b[38;5;124m'\u001b[39m\u001b[38;5;124mfull\u001b[39m\u001b[38;5;124m'\u001b[39m:\n",
      "File \u001b[0;32m~/.local/lib/python3.10/site-packages/torch_geometric/data/in_memory_dataset.py:82\u001b[0m, in \u001b[0;36mInMemoryDataset.__init__\u001b[0;34m(self, root, transform, pre_transform, pre_filter, log, force_reload)\u001b[0m\n\u001b[1;32m     73\u001b[0m \u001b[38;5;28;01mdef\u001b[39;00m \u001b[38;5;21m__init__\u001b[39m(\n\u001b[1;32m     74\u001b[0m     \u001b[38;5;28mself\u001b[39m,\n\u001b[1;32m     75\u001b[0m     root: Optional[\u001b[38;5;28mstr\u001b[39m] \u001b[38;5;241m=\u001b[39m \u001b[38;5;28;01mNone\u001b[39;00m,\n\u001b[0;32m   (...)\u001b[0m\n\u001b[1;32m     80\u001b[0m     force_reload: \u001b[38;5;28mbool\u001b[39m \u001b[38;5;241m=\u001b[39m \u001b[38;5;28;01mFalse\u001b[39;00m,\n\u001b[1;32m     81\u001b[0m ) \u001b[38;5;241m-\u001b[39m\u001b[38;5;241m>\u001b[39m \u001b[38;5;28;01mNone\u001b[39;00m:\n\u001b[0;32m---> 82\u001b[0m     \u001b[38;5;28;43msuper\u001b[39;49m\u001b[43m(\u001b[49m\u001b[43m)\u001b[49m\u001b[38;5;241;43m.\u001b[39;49m\u001b[38;5;21;43m__init__\u001b[39;49m\u001b[43m(\u001b[49m\u001b[43mroot\u001b[49m\u001b[43m,\u001b[49m\u001b[43m \u001b[49m\u001b[43mtransform\u001b[49m\u001b[43m,\u001b[49m\u001b[43m \u001b[49m\u001b[43mpre_transform\u001b[49m\u001b[43m,\u001b[49m\u001b[43m \u001b[49m\u001b[43mpre_filter\u001b[49m\u001b[43m,\u001b[49m\u001b[43m \u001b[49m\u001b[43mlog\u001b[49m\u001b[43m,\u001b[49m\n\u001b[1;32m     83\u001b[0m \u001b[43m                     \u001b[49m\u001b[43mforce_reload\u001b[49m\u001b[43m)\u001b[49m\n\u001b[1;32m     85\u001b[0m     \u001b[38;5;28mself\u001b[39m\u001b[38;5;241m.\u001b[39m_data: Optional[BaseData] \u001b[38;5;241m=\u001b[39m \u001b[38;5;28;01mNone\u001b[39;00m\n\u001b[1;32m     86\u001b[0m     \u001b[38;5;28mself\u001b[39m\u001b[38;5;241m.\u001b[39mslices: Optional[Dict[\u001b[38;5;28mstr\u001b[39m, Tensor]] \u001b[38;5;241m=\u001b[39m \u001b[38;5;28;01mNone\u001b[39;00m\n",
      "File \u001b[0;32m~/.local/lib/python3.10/site-packages/torch_geometric/data/dataset.py:115\u001b[0m, in \u001b[0;36mDataset.__init__\u001b[0;34m(self, root, transform, pre_transform, pre_filter, log, force_reload)\u001b[0m\n\u001b[1;32m    112\u001b[0m \u001b[38;5;28mself\u001b[39m\u001b[38;5;241m.\u001b[39mforce_reload \u001b[38;5;241m=\u001b[39m force_reload\n\u001b[1;32m    114\u001b[0m \u001b[38;5;28;01mif\u001b[39;00m \u001b[38;5;28mself\u001b[39m\u001b[38;5;241m.\u001b[39mhas_download:\n\u001b[0;32m--> 115\u001b[0m     \u001b[38;5;28;43mself\u001b[39;49m\u001b[38;5;241;43m.\u001b[39;49m\u001b[43m_download\u001b[49m\u001b[43m(\u001b[49m\u001b[43m)\u001b[49m\n\u001b[1;32m    117\u001b[0m \u001b[38;5;28;01mif\u001b[39;00m \u001b[38;5;28mself\u001b[39m\u001b[38;5;241m.\u001b[39mhas_process:\n\u001b[1;32m    118\u001b[0m     \u001b[38;5;28mself\u001b[39m\u001b[38;5;241m.\u001b[39m_process()\n",
      "File \u001b[0;32m~/.local/lib/python3.10/site-packages/torch_geometric/data/dataset.py:232\u001b[0m, in \u001b[0;36mDataset._download\u001b[0;34m(self)\u001b[0m\n\u001b[1;32m    229\u001b[0m     \u001b[38;5;28;01mreturn\u001b[39;00m\n\u001b[1;32m    231\u001b[0m fs\u001b[38;5;241m.\u001b[39mmakedirs(\u001b[38;5;28mself\u001b[39m\u001b[38;5;241m.\u001b[39mraw_dir, exist_ok\u001b[38;5;241m=\u001b[39m\u001b[38;5;28;01mTrue\u001b[39;00m)\n\u001b[0;32m--> 232\u001b[0m \u001b[38;5;28;43mself\u001b[39;49m\u001b[38;5;241;43m.\u001b[39;49m\u001b[43mdownload\u001b[49m\u001b[43m(\u001b[49m\u001b[43m)\u001b[49m\n",
      "File \u001b[0;32m~/.local/lib/python3.10/site-packages/torch_geometric/datasets/planetoid.py:154\u001b[0m, in \u001b[0;36mPlanetoid.download\u001b[0;34m(self)\u001b[0m\n\u001b[1;32m    152\u001b[0m \u001b[38;5;28;01mdef\u001b[39;00m \u001b[38;5;21mdownload\u001b[39m(\u001b[38;5;28mself\u001b[39m) \u001b[38;5;241m-\u001b[39m\u001b[38;5;241m>\u001b[39m \u001b[38;5;28;01mNone\u001b[39;00m:\n\u001b[1;32m    153\u001b[0m     \u001b[38;5;28;01mfor\u001b[39;00m name \u001b[38;5;129;01min\u001b[39;00m \u001b[38;5;28mself\u001b[39m\u001b[38;5;241m.\u001b[39mraw_file_names:\n\u001b[0;32m--> 154\u001b[0m         \u001b[43mfs\u001b[49m\u001b[38;5;241;43m.\u001b[39;49m\u001b[43mcp\u001b[49m\u001b[43m(\u001b[49m\u001b[38;5;124;43mf\u001b[39;49m\u001b[38;5;124;43m'\u001b[39;49m\u001b[38;5;132;43;01m{\u001b[39;49;00m\u001b[38;5;28;43mself\u001b[39;49m\u001b[38;5;241;43m.\u001b[39;49m\u001b[43murl\u001b[49m\u001b[38;5;132;43;01m}\u001b[39;49;00m\u001b[38;5;124;43m/\u001b[39;49m\u001b[38;5;132;43;01m{\u001b[39;49;00m\u001b[43mname\u001b[49m\u001b[38;5;132;43;01m}\u001b[39;49;00m\u001b[38;5;124;43m'\u001b[39;49m\u001b[43m,\u001b[49m\u001b[43m \u001b[49m\u001b[38;5;28;43mself\u001b[39;49m\u001b[38;5;241;43m.\u001b[39;49m\u001b[43mraw_dir\u001b[49m\u001b[43m)\u001b[49m\n\u001b[1;32m    155\u001b[0m     \u001b[38;5;28;01mif\u001b[39;00m \u001b[38;5;28mself\u001b[39m\u001b[38;5;241m.\u001b[39msplit \u001b[38;5;241m==\u001b[39m \u001b[38;5;124m'\u001b[39m\u001b[38;5;124mgeom-gcn\u001b[39m\u001b[38;5;124m'\u001b[39m:\n\u001b[1;32m    156\u001b[0m         \u001b[38;5;28;01mfor\u001b[39;00m i \u001b[38;5;129;01min\u001b[39;00m \u001b[38;5;28mrange\u001b[39m(\u001b[38;5;241m10\u001b[39m):\n",
      "File \u001b[0;32m~/.local/lib/python3.10/site-packages/torch_geometric/io/fs.py:111\u001b[0m, in \u001b[0;36mcp\u001b[0;34m(path1, path2, extract, log, use_cache, clear_cache)\u001b[0m\n\u001b[1;32m    101\u001b[0m \u001b[38;5;28;01mdef\u001b[39;00m \u001b[38;5;21mcp\u001b[39m(\n\u001b[1;32m    102\u001b[0m     path1: \u001b[38;5;28mstr\u001b[39m,\n\u001b[1;32m    103\u001b[0m     path2: \u001b[38;5;28mstr\u001b[39m,\n\u001b[0;32m   (...)\u001b[0m\n\u001b[1;32m    107\u001b[0m     clear_cache: \u001b[38;5;28mbool\u001b[39m \u001b[38;5;241m=\u001b[39m \u001b[38;5;28;01mTrue\u001b[39;00m,\n\u001b[1;32m    108\u001b[0m ) \u001b[38;5;241m-\u001b[39m\u001b[38;5;241m>\u001b[39m \u001b[38;5;28;01mNone\u001b[39;00m:\n\u001b[1;32m    109\u001b[0m     kwargs: Dict[\u001b[38;5;28mstr\u001b[39m, Any] \u001b[38;5;241m=\u001b[39m {}\n\u001b[0;32m--> 111\u001b[0m     is_path1_dir \u001b[38;5;241m=\u001b[39m \u001b[43misdir\u001b[49m\u001b[43m(\u001b[49m\u001b[43mpath1\u001b[49m\u001b[43m)\u001b[49m\n\u001b[1;32m    112\u001b[0m     is_path2_dir \u001b[38;5;241m=\u001b[39m isdir(path2)\n\u001b[1;32m    114\u001b[0m     \u001b[38;5;66;03m# Cache result if the protocol is not local:\u001b[39;00m\n",
      "File \u001b[0;32m~/.local/lib/python3.10/site-packages/torch_geometric/io/fs.py:59\u001b[0m, in \u001b[0;36misdir\u001b[0;34m(path)\u001b[0m\n\u001b[1;32m     58\u001b[0m \u001b[38;5;28;01mdef\u001b[39;00m \u001b[38;5;21misdir\u001b[39m(path: \u001b[38;5;28mstr\u001b[39m) \u001b[38;5;241m-\u001b[39m\u001b[38;5;241m>\u001b[39m \u001b[38;5;28mbool\u001b[39m:\n\u001b[0;32m---> 59\u001b[0m     \u001b[38;5;28;01mreturn\u001b[39;00m \u001b[43mget_fs\u001b[49m\u001b[43m(\u001b[49m\u001b[43mpath\u001b[49m\u001b[43m)\u001b[49m\u001b[38;5;241;43m.\u001b[39;49m\u001b[43misdir\u001b[49m\u001b[43m(\u001b[49m\u001b[43mpath\u001b[49m\u001b[43m)\u001b[49m\n",
      "File \u001b[0;32m~/.local/lib/python3.10/site-packages/fsspec/asyn.py:118\u001b[0m, in \u001b[0;36msync_wrapper.<locals>.wrapper\u001b[0;34m(*args, **kwargs)\u001b[0m\n\u001b[1;32m    115\u001b[0m \u001b[38;5;129m@functools\u001b[39m\u001b[38;5;241m.\u001b[39mwraps(func)\n\u001b[1;32m    116\u001b[0m \u001b[38;5;28;01mdef\u001b[39;00m \u001b[38;5;21mwrapper\u001b[39m(\u001b[38;5;241m*\u001b[39margs, \u001b[38;5;241m*\u001b[39m\u001b[38;5;241m*\u001b[39mkwargs):\n\u001b[1;32m    117\u001b[0m     \u001b[38;5;28mself\u001b[39m \u001b[38;5;241m=\u001b[39m obj \u001b[38;5;129;01mor\u001b[39;00m args[\u001b[38;5;241m0\u001b[39m]\n\u001b[0;32m--> 118\u001b[0m     \u001b[38;5;28;01mreturn\u001b[39;00m \u001b[43msync\u001b[49m\u001b[43m(\u001b[49m\u001b[38;5;28;43mself\u001b[39;49m\u001b[38;5;241;43m.\u001b[39;49m\u001b[43mloop\u001b[49m\u001b[43m,\u001b[49m\u001b[43m \u001b[49m\u001b[43mfunc\u001b[49m\u001b[43m,\u001b[49m\u001b[43m \u001b[49m\u001b[38;5;241;43m*\u001b[39;49m\u001b[43margs\u001b[49m\u001b[43m,\u001b[49m\u001b[43m \u001b[49m\u001b[38;5;241;43m*\u001b[39;49m\u001b[38;5;241;43m*\u001b[39;49m\u001b[43mkwargs\u001b[49m\u001b[43m)\u001b[49m\n",
      "File \u001b[0;32m~/.local/lib/python3.10/site-packages/fsspec/asyn.py:103\u001b[0m, in \u001b[0;36msync\u001b[0;34m(loop, func, timeout, *args, **kwargs)\u001b[0m\n\u001b[1;32m    101\u001b[0m     \u001b[38;5;28;01mraise\u001b[39;00m FSTimeoutError \u001b[38;5;28;01mfrom\u001b[39;00m \u001b[38;5;21;01mreturn_result\u001b[39;00m\n\u001b[1;32m    102\u001b[0m \u001b[38;5;28;01melif\u001b[39;00m \u001b[38;5;28misinstance\u001b[39m(return_result, \u001b[38;5;167;01mBaseException\u001b[39;00m):\n\u001b[0;32m--> 103\u001b[0m     \u001b[38;5;28;01mraise\u001b[39;00m return_result\n\u001b[1;32m    104\u001b[0m \u001b[38;5;28;01melse\u001b[39;00m:\n\u001b[1;32m    105\u001b[0m     \u001b[38;5;28;01mreturn\u001b[39;00m return_result\n",
      "File \u001b[0;32m~/.local/lib/python3.10/site-packages/fsspec/asyn.py:56\u001b[0m, in \u001b[0;36m_runner\u001b[0;34m(event, coro, result, timeout)\u001b[0m\n\u001b[1;32m     54\u001b[0m     coro \u001b[38;5;241m=\u001b[39m asyncio\u001b[38;5;241m.\u001b[39mwait_for(coro, timeout\u001b[38;5;241m=\u001b[39mtimeout)\n\u001b[1;32m     55\u001b[0m \u001b[38;5;28;01mtry\u001b[39;00m:\n\u001b[0;32m---> 56\u001b[0m     result[\u001b[38;5;241m0\u001b[39m] \u001b[38;5;241m=\u001b[39m \u001b[38;5;28;01mawait\u001b[39;00m coro\n\u001b[1;32m     57\u001b[0m \u001b[38;5;28;01mexcept\u001b[39;00m \u001b[38;5;167;01mException\u001b[39;00m \u001b[38;5;28;01mas\u001b[39;00m ex:\n\u001b[1;32m     58\u001b[0m     result[\u001b[38;5;241m0\u001b[39m] \u001b[38;5;241m=\u001b[39m ex\n",
      "File \u001b[0;32m~/.local/lib/python3.10/site-packages/fsspec/implementations/http.py:513\u001b[0m, in \u001b[0;36mHTTPFileSystem._isdir\u001b[0;34m(self, path)\u001b[0m\n\u001b[1;32m    510\u001b[0m \u001b[38;5;28;01masync\u001b[39;00m \u001b[38;5;28;01mdef\u001b[39;00m \u001b[38;5;21m_isdir\u001b[39m(\u001b[38;5;28mself\u001b[39m, path):\n\u001b[1;32m    511\u001b[0m     \u001b[38;5;66;03m# override, since all URLs are (also) files\u001b[39;00m\n\u001b[1;32m    512\u001b[0m     \u001b[38;5;28;01mtry\u001b[39;00m:\n\u001b[0;32m--> 513\u001b[0m         \u001b[38;5;28;01mreturn\u001b[39;00m \u001b[38;5;28mbool\u001b[39m(\u001b[38;5;28;01mawait\u001b[39;00m \u001b[38;5;28mself\u001b[39m\u001b[38;5;241m.\u001b[39m_ls(path))\n\u001b[1;32m    514\u001b[0m     \u001b[38;5;28;01mexcept\u001b[39;00m (\u001b[38;5;167;01mFileNotFoundError\u001b[39;00m, \u001b[38;5;167;01mValueError\u001b[39;00m):\n\u001b[1;32m    515\u001b[0m         \u001b[38;5;28;01mreturn\u001b[39;00m \u001b[38;5;28;01mFalse\u001b[39;00m\n",
      "File \u001b[0;32m~/.local/lib/python3.10/site-packages/fsspec/implementations/http.py:204\u001b[0m, in \u001b[0;36mHTTPFileSystem._ls\u001b[0;34m(self, url, detail, **kwargs)\u001b[0m\n\u001b[1;32m    202\u001b[0m     out \u001b[38;5;241m=\u001b[39m \u001b[38;5;28mself\u001b[39m\u001b[38;5;241m.\u001b[39mdircache[url]\n\u001b[1;32m    203\u001b[0m \u001b[38;5;28;01melse\u001b[39;00m:\n\u001b[0;32m--> 204\u001b[0m     out \u001b[38;5;241m=\u001b[39m \u001b[38;5;28;01mawait\u001b[39;00m \u001b[38;5;28mself\u001b[39m\u001b[38;5;241m.\u001b[39m_ls_real(url, detail\u001b[38;5;241m=\u001b[39mdetail, \u001b[38;5;241m*\u001b[39m\u001b[38;5;241m*\u001b[39mkwargs)\n\u001b[1;32m    205\u001b[0m     \u001b[38;5;28mself\u001b[39m\u001b[38;5;241m.\u001b[39mdircache[url] \u001b[38;5;241m=\u001b[39m out\n\u001b[1;32m    206\u001b[0m \u001b[38;5;28;01mreturn\u001b[39;00m out\n",
      "File \u001b[0;32m~/.local/lib/python3.10/site-packages/fsspec/implementations/http.py:159\u001b[0m, in \u001b[0;36mHTTPFileSystem._ls_real\u001b[0;34m(self, url, detail, **kwargs)\u001b[0m\n\u001b[1;32m    157\u001b[0m logger\u001b[38;5;241m.\u001b[39mdebug(url)\n\u001b[1;32m    158\u001b[0m session \u001b[38;5;241m=\u001b[39m \u001b[38;5;28;01mawait\u001b[39;00m \u001b[38;5;28mself\u001b[39m\u001b[38;5;241m.\u001b[39mset_session()\n\u001b[0;32m--> 159\u001b[0m \u001b[38;5;28;01masync\u001b[39;00m \u001b[38;5;28;01mwith\u001b[39;00m session\u001b[38;5;241m.\u001b[39mget(\u001b[38;5;28mself\u001b[39m\u001b[38;5;241m.\u001b[39mencode_url(url), \u001b[38;5;241m*\u001b[39m\u001b[38;5;241m*\u001b[39m\u001b[38;5;28mself\u001b[39m\u001b[38;5;241m.\u001b[39mkwargs) \u001b[38;5;28;01mas\u001b[39;00m r:\n\u001b[1;32m    160\u001b[0m     \u001b[38;5;28mself\u001b[39m\u001b[38;5;241m.\u001b[39m_raise_not_found_for_status(r, url)\n\u001b[1;32m    161\u001b[0m     text \u001b[38;5;241m=\u001b[39m \u001b[38;5;28;01mawait\u001b[39;00m r\u001b[38;5;241m.\u001b[39mtext()\n",
      "File \u001b[0;32m~/.local/lib/python3.10/site-packages/aiohttp/client.py:1194\u001b[0m, in \u001b[0;36m_BaseRequestContextManager.__aenter__\u001b[0;34m(self)\u001b[0m\n\u001b[1;32m   1193\u001b[0m \u001b[38;5;28;01masync\u001b[39;00m \u001b[38;5;28;01mdef\u001b[39;00m \u001b[38;5;21m__aenter__\u001b[39m(\u001b[38;5;28mself\u001b[39m) \u001b[38;5;241m-\u001b[39m\u001b[38;5;241m>\u001b[39m _RetType:\n\u001b[0;32m-> 1194\u001b[0m     \u001b[38;5;28mself\u001b[39m\u001b[38;5;241m.\u001b[39m_resp \u001b[38;5;241m=\u001b[39m \u001b[38;5;28;01mawait\u001b[39;00m \u001b[38;5;28mself\u001b[39m\u001b[38;5;241m.\u001b[39m_coro\n\u001b[1;32m   1195\u001b[0m     \u001b[38;5;28;01mreturn\u001b[39;00m \u001b[38;5;28mself\u001b[39m\u001b[38;5;241m.\u001b[39m_resp\n",
      "File \u001b[0;32m~/.local/lib/python3.10/site-packages/aiohttp/client.py:605\u001b[0m, in \u001b[0;36mClientSession._request\u001b[0;34m(self, method, str_or_url, params, data, json, cookies, headers, skip_auto_headers, auth, allow_redirects, max_redirects, compress, chunked, expect100, raise_for_status, read_until_eof, proxy, proxy_auth, timeout, verify_ssl, fingerprint, ssl_context, ssl, server_hostname, proxy_headers, trace_request_ctx, read_bufsize, auto_decompress, max_line_size, max_field_size)\u001b[0m\n\u001b[1;32m    603\u001b[0m resp \u001b[38;5;241m=\u001b[39m \u001b[38;5;28;01mawait\u001b[39;00m req\u001b[38;5;241m.\u001b[39msend(conn)\n\u001b[1;32m    604\u001b[0m \u001b[38;5;28;01mtry\u001b[39;00m:\n\u001b[0;32m--> 605\u001b[0m     \u001b[38;5;28;01mawait\u001b[39;00m resp\u001b[38;5;241m.\u001b[39mstart(conn)\n\u001b[1;32m    606\u001b[0m \u001b[38;5;28;01mexcept\u001b[39;00m \u001b[38;5;167;01mBaseException\u001b[39;00m:\n\u001b[1;32m    607\u001b[0m     resp\u001b[38;5;241m.\u001b[39mclose()\n",
      "File \u001b[0;32m~/.local/lib/python3.10/site-packages/aiohttp/client_reqrep.py:966\u001b[0m, in \u001b[0;36mClientResponse.start\u001b[0;34m(self, connection)\u001b[0m\n\u001b[1;32m    964\u001b[0m \u001b[38;5;28;01mtry\u001b[39;00m:\n\u001b[1;32m    965\u001b[0m     protocol \u001b[38;5;241m=\u001b[39m \u001b[38;5;28mself\u001b[39m\u001b[38;5;241m.\u001b[39m_protocol\n\u001b[0;32m--> 966\u001b[0m     message, payload \u001b[38;5;241m=\u001b[39m \u001b[38;5;28;01mawait\u001b[39;00m protocol\u001b[38;5;241m.\u001b[39mread()  \u001b[38;5;66;03m# type: ignore[union-attr]\u001b[39;00m\n\u001b[1;32m    967\u001b[0m \u001b[38;5;28;01mexcept\u001b[39;00m http\u001b[38;5;241m.\u001b[39mHttpProcessingError \u001b[38;5;28;01mas\u001b[39;00m exc:\n\u001b[1;32m    968\u001b[0m     \u001b[38;5;28;01mraise\u001b[39;00m ClientResponseError(\n\u001b[1;32m    969\u001b[0m         \u001b[38;5;28mself\u001b[39m\u001b[38;5;241m.\u001b[39mrequest_info,\n\u001b[1;32m    970\u001b[0m         \u001b[38;5;28mself\u001b[39m\u001b[38;5;241m.\u001b[39mhistory,\n\u001b[0;32m   (...)\u001b[0m\n\u001b[1;32m    973\u001b[0m         headers\u001b[38;5;241m=\u001b[39mexc\u001b[38;5;241m.\u001b[39mheaders,\n\u001b[1;32m    974\u001b[0m     ) \u001b[38;5;28;01mfrom\u001b[39;00m \u001b[38;5;21;01mexc\u001b[39;00m\n",
      "File \u001b[0;32m~/.local/lib/python3.10/site-packages/aiohttp/streams.py:622\u001b[0m, in \u001b[0;36mDataQueue.read\u001b[0;34m(self)\u001b[0m\n\u001b[1;32m    620\u001b[0m \u001b[38;5;28mself\u001b[39m\u001b[38;5;241m.\u001b[39m_waiter \u001b[38;5;241m=\u001b[39m \u001b[38;5;28mself\u001b[39m\u001b[38;5;241m.\u001b[39m_loop\u001b[38;5;241m.\u001b[39mcreate_future()\n\u001b[1;32m    621\u001b[0m \u001b[38;5;28;01mtry\u001b[39;00m:\n\u001b[0;32m--> 622\u001b[0m     \u001b[38;5;28;01mawait\u001b[39;00m \u001b[38;5;28mself\u001b[39m\u001b[38;5;241m.\u001b[39m_waiter\n\u001b[1;32m    623\u001b[0m \u001b[38;5;28;01mexcept\u001b[39;00m (asyncio\u001b[38;5;241m.\u001b[39mCancelledError, asyncio\u001b[38;5;241m.\u001b[39mTimeoutError):\n\u001b[1;32m    624\u001b[0m     \u001b[38;5;28mself\u001b[39m\u001b[38;5;241m.\u001b[39m_waiter \u001b[38;5;241m=\u001b[39m \u001b[38;5;28;01mNone\u001b[39;00m\n",
      "\u001b[0;31mServerDisconnectedError\u001b[0m: Server disconnected"
     ]
    }
   ],
   "source": [
    "# 内建数据集\n",
    "from torch_geometric.datasets import TUDataset, CoraFull\n",
    "from torch_geometric.datasets import Planetoid\n",
    "\n",
    "# dataset = TUDataset(root='/tmp/ENZYMES', name='ENZYMES')\n",
    "dataset = Planetoid(root='/tmp/Cora', name='Cora')\n",
    "print(len(dataset),dataset.num_classes,dataset.num_node_features)"
   ]
  },
  {
   "cell_type": "markdown",
   "metadata": {},
   "source": [
    "## 异构图 Hetero_graph\n",
    "### 创建异构图\n",
    "异构图创建一般是先创建一个空的异构图，然后在添加节点和边\n",
    "```python\n",
    "from torch_geometric.data import HeteroData\n",
    "hetero_data = HeteroData()#创建空异构图\n",
    "```\n",
    "\n",
    "### 节点\n",
    "- 添加新的节点类\n",
    "异构图的存储类似与字典，因此可以直接通过下标来添加新的节点类\\\n",
    "`hetero_data['new_node_type'].x = torch.randn(num_nodes,num_nodes_features)`\n",
    "- 添加新结点:由于节点的存储是矩阵，每一行是一个结点，因此只需要创建相同特征的`tensor`并且`cat`到特征矩阵x上即可:\\\n",
    "`new_nodes_features = torch.randn(2, 4)`\\\n",
    "`hetero_data['existing_node_type'].x = torch.cat([hetero_data['existing_node_type'].x, new_nodes_features], dim=0)`\n",
    "\n",
    "### 边\n",
    "- 添加边的范式:\\\n",
    "`hetero_graph['source', 'relation', 'target'].edge_index=torch.tensor[source_list,target_list]`\\\n",
    "例如:假设第1种农药可以防治第1种和第2种病害\\\n",
    "`hetero_graph['pesticide', 'prevents', 'disease'].edge_index = torch.tensor([[0, 0], [0, 1]])`\\\n",
    "- 可以通过`edge_attr`来构建边的特征\\\n",
    "`hetero_graph['pesticide', 'prevents', 'disease'].edge_attr = torch.randn(2, 2)`"
   ]
  },
  {
   "cell_type": "code",
   "execution_count": null,
   "metadata": {},
   "outputs": [
    {
     "data": {
      "text/plain": [
       "HeteroData(\n",
       "  pesticide={ x=[3, 5] },\n",
       "  disease={ x=[4, 5] },\n",
       "  plant={ x=[2, 5] },\n",
       "  (pesticide, prevents, disease)={\n",
       "    edge_index=[2, 2],\n",
       "    edge_attr=[2, 2],\n",
       "  },\n",
       "  (disease, affects, plant)={\n",
       "    edge_index=[2, 3],\n",
       "    edge_attr=[3, 2],\n",
       "  }\n",
       ")"
      ]
     },
     "execution_count": 5,
     "metadata": {},
     "output_type": "execute_result"
    }
   ],
   "source": [
    "import torch\n",
    "from torch_geometric.data import HeteroData\n",
    "# 创建HeteroData对象\n",
    "hetero_graph = HeteroData()\n",
    "\n",
    "# 假设我们有3种农药，每种农药的特征维度为5\n",
    "hetero_graph['pesticide'].x = torch.randn(3, 5)\n",
    "# 假设有4种病害，每种病害的特征维度为5\n",
    "hetero_graph['disease'].x = torch.randn(4, 5)\n",
    "\n",
    "# 假设有2种植物，每种植物的特征维度为5\n",
    "hetero_graph['plant'].x = torch.randn(2, 5)\n",
    "# 定义农药到病害的\"防治\"关系\n",
    "# 假设第1种农药可以防治第1种和第2种病害\n",
    "hetero_graph['pesticide', 'prevents', 'disease'].edge_index = torch.tensor(\n",
    "    [[0, 0], [0, 1]], dtype=torch.long)\n",
    "\n",
    "# 定义病害到植物的\"影响\"关系\n",
    "# 假设第1种病害影响第1种植物，第2种和第3种病害影响第2种植物\n",
    "hetero_graph['disease', 'affects', 'plant'].edge_index = torch.tensor(\n",
    "    [[0, 1, 2], [0, 1, 1]], dtype=torch.long)\n",
    "# 为\"防治\"关系添加特征，假设特征维度为2\n",
    "hetero_graph['pesticide', 'prevents', 'disease'].edge_attr = torch.randn(2, 2)\n",
    "# 为\"影响\"关系添加特征，假设特征维度为3\n",
    "hetero_graph['disease', 'affects', 'plant'].edge_attr = torch.randn(3, 2)\n",
    "hetero_graph"
   ]
  }
 ],
 "metadata": {
  "kernelspec": {
   "display_name": "Python 3",
   "language": "python",
   "name": "python3"
  },
  "language_info": {
   "codemirror_mode": {
    "name": "ipython",
    "version": 3
   },
   "file_extension": ".py",
   "mimetype": "text/x-python",
   "name": "python",
   "nbconvert_exporter": "python",
   "pygments_lexer": "ipython3",
   "version": "3.10.12"
  }
 },
 "nbformat": 4,
 "nbformat_minor": 2
}

{
 "cells": [
  {
   "cell_type": "code",
   "execution_count": 9,
   "metadata": {},
   "outputs": [],
   "source": [
    "import  torch\n",
    "import  networkx as nx\n",
    "import  pandas as pd\n",
    "from torch_geometric.data import Data\n",
    "import  numpy as np\n",
    "\n",
    "import matplotlib.pyplot as plt\n"
   ]
  },
  {
   "cell_type": "markdown",
   "metadata": {},
   "source": [
    "## PyG\n",
    "### data\n",
    "**torch_geometric.data**中定义一些基本的图神经网络对象，最基本的两个是Data(同构图)和HeteroData()\n",
    "#### Data(同构图)\n",
    "Data把 **结点** 和 **边** 分开存储，类似与字典的键值对\n",
    "\\\n",
    "构造函数Data对象:\n",
    "```python\n",
    "class Data(x: Optional[Tensor] = None, edge_index: Optional[Tensor] = None, edge_attr: Optional[Tensor] = None, y: Optional[Union[Tensor, int, float]] = None, pos: Optional[Tensor] = None, time: Optional[Tensor] = None, **kwargs)\n",
    "```\n",
    "\\\n",
    "参数含义:\n",
    "- `x`:是结点特征，形状为`[num_nodes, num_node_features]`\n",
    "- `edge_index`:图的边连接 ， COO形式([source1,source2....],[target1,target2....])，形状为`[2, num_edges] `，默认数据类型:`torch.long`\n",
    "- `edge_attr`:边的特征矩阵，形状为` [num_edges, num_edge_features]`\n",
    "- `y`:训练目标/标签（可能有任意形状），例如结点训练目标` [num_nodes, *]` or 图层面的标签 `[1, *]`\n",
    "- `pos`: 位置矩阵 `[num_nodes, num_dimensions]`。pos 保存了节点在空间中的坐标，形状为 `[num_nodes, num_dimensions]`，其中 `num_nodes` 是节点的数量，`num_dimensions` 是空间的维度。例如，在2D空间的图中，pos 可能包含每个节点的 (x, y) 坐标；在3D空间中，则包含 (x, y, z)。\n",
    "- time(torch.Tensor)-每个事件的时间戳，其形状为[Num_Edges]或[Num_Nodes]。(默认：无)\n",
    "- **kwargs(可选)-其他属性。\n",
    "\n",
    "\\\n",
    "属性(类型全部为torch.Tensor):\n",
    "- data.x:结点特征 `[num_nodes, num_node_features]`\n",
    "\n",
    "- data.edge_index:图的边连接 ， COO format([source1,source2....],[target1,target2....])，`[2, num_edges] ` 数据类型:` torch.long`\n",
    "\n",
    "- data.edge_attr:边的特征矩阵 ` [num_edges, num_edge_features]`\n",
    "\n",
    "- data.y: 训练目标/标签（可能有任意形状），例如结点训练目标` [num_nodes, *]` or 图层面的标签 `[1, *]`\n",
    "\n",
    "- data.pos: 位置矩阵 `[num_nodes, num_dimensions]`\n",
    "  \n",
    "方法:\n",
    "- `to_dict()`:返回存储的键/值对的字典，其中键是图的属性，例如特征x，边连接edige_index，值是对应的矩阵\n",
    "- `to_namedtuple()`:返回存储的键/值对的NamedTuple。\n",
    "- Update`:用另一个数据对象中的元素更新数据对象。添加的元素将覆盖现有的元素（在重复的情况下）。\n",
    "\n",
    "- `__getitem__(self, key)`:用于获取图的属性。允许通过属性名作为键来访问图的任何属性，如 `data['x']` 返回节点特征矩阵。\n",
    "- `__setitem__(self, key, item)`:用于设置图的属性。可以通过这个方法为图添加新的属性或修改现有的属性，如 `data['edge_attr'] = edge_features`。\n",
    "- `__len__(self)`:返回图的节点数。这是通过检查节点特征矩阵的大小来实现的。\n",
    "\n",
    "- `__contains__(self, key)`:检查图是否包含给定的属性。\n",
    "\n",
    "- `__inc__(self, key, value)`:用于批处理时自增长某个属性的值。这通常用在 `edge_index` 上，以确保在批量处理多个图时，每个图的边索引是正确偏移的。\n",
    "\n",
    "- `__cat_dim__(self, key, value)`:指定在批处理时应该沿哪个维度合并（拼接）特定属性。例如，节点特征(`x`)通常沿节点维度合并，而边索引(`edge_index`)不合并。\n",
    "\n",
    "- `clone(self)`:返回 `Data` 对象的深拷贝。这个方法确保原始数据和拷贝数据在内存中是完全独立的。\n",
    "\n",
    "- `to(device, **kwargs)`:将 `Data` 对象中的所有张量移动到指定的设备上（如GPU）。这对于深度学习训练非常有用。\n",
    "\n",
    "-. `apply(func, *keys)`:对 `Data` 对象中的一个或多个属性应用函数 `func`。这对于数据预处理非常方便。\n",
    "\n",
    "-. `contiguous(self, *keys)`:确保一个或多个属性的存储是连续的，这通常在将数据传递给某些特定操作之前需要。\n",
    "\n",
    "-. `is_undirected(self)`:检查图是否是无向的。如果图的每条边都有对应的反向边，则认为图是无向的。\n"
   ]
  },
  {
   "cell_type": "code",
   "execution_count": 10,
   "metadata": {},
   "outputs": [
    {
     "data": {
      "text/plain": [
       "GlobalStorageTuple(x=tensor([[ 0.8384,  0.0344],\n",
       "        [-0.0731, -0.1337],\n",
       "        [-1.1596, -1.1055],\n",
       "        [-0.6811, -0.3893]]), edge_index=tensor([[0, 1, 3, 2, 3, 0],\n",
       "        [1, 0, 2, 3, 0, 3]]))"
      ]
     },
     "execution_count": 10,
     "metadata": {},
     "output_type": "execute_result"
    }
   ],
   "source": [
    "# edge_index存储方式[source1,source2....],[target1,target2.....]\n",
    "# edge_index = torch.tensor([[0, 1 ,3,1,3,2,3,0],\n",
    "#                            [1, 0 ,1,3,2,3,0,3]], dtype=torch.long)\n",
    "# 如果要用[source1,target1],[ source2,target2]来存储，则需要transpose和 contiguous\n",
    "edge_index = torch.tensor([[0, 1],\n",
    "                           [1, 0],\n",
    "                           [3, 2],\n",
    "                           [2, 3],\n",
    "                           [3,0],\n",
    "                           [0,3]], dtype=torch.long)\n",
    "edge_index=edge_index.t().contiguous()\n",
    "x = torch.randn(4, 2)\n",
    "data = Data(x=x, edge_index=edge_index)\n",
    "data.to_namedtuple()"
   ]
  },
  {
   "cell_type": "code",
   "execution_count": 11,
   "metadata": {},
   "outputs": [
    {
     "data": {
      "image/png": "[encoded data removed]",
      "text/plain": [
       "<Figure size 640x480 with 1 Axes>"
      ]
     },
     "metadata": {},
     "output_type": "display_data"
    }
   ],
   "source": [
    "# NX 可视化图\n",
    "# 创建无向图\n",
    "G = nx.Graph()\n",
    "# 添加节点\n",
    "nodes = [0,1,2,3]\n",
    "G.add_nodes_from(nodes)\n",
    "# 添加边（连接关系）\n",
    "# (第一种形式的推导式)\n",
    "edges = [(edge_index[0, i].item(), edge_index[1, i].item())\n",
    "                      for i in range(edge_index.shape[1])]\n",
    "# 第二中形式的推导式\n",
    "# edges=[tuple(x.tolist())for x in edge_index]\n",
    "G.add_edges_from(edges)\n",
    "# 可视化图\n",
    "pos = nx.spring_layout(G)  # 选择布局算法\n",
    "nx.draw(G, pos, with_labels=True, font_weight='bold', node_size=700,\n",
    "        node_color='skyblue', font_size=10, edge_color='gray')\n",
    "# 获取邻接矩阵\n",
    "adj_matrix = nx.adjacency_matrix(G)\n",
    "# 获取度矩阵\n",
    "degree_matrix = np.diag(list(dict(G.degree).values()))"
   ]
  },
  {
   "cell_type": "code",
   "execution_count": 12,
   "metadata": {},
   "outputs": [
    {
     "name": "stdout",
     "output_type": "stream",
     "text": [
      "1 7 1433\n"
     ]
    }
   ],
   "source": [
    "# 内建数据集\n",
    "from torch_geometric.datasets import TUDataset, CoraFull\n",
    "from torch_geometric.datasets import Planetoid\n",
    "\n",
    "# dataset = TUDataset(root='/tmp/ENZYMES', name='ENZYMES')\n",
    "dataset = Planetoid(root='/tmp/Cora', name='Cora')\n",
    "print(len(dataset),dataset.num_classes,dataset.num_node_features)"
   ]
  },
  {
   "cell_type": "markdown",
   "metadata": {},
   "source": [
    "## 异构图 Hetero_graph\n",
    "### 创建异构图\n",
    "异构图创建一般是先创建一个空的异构图，然后在添加节点和边\n",
    "```python\n",
    "from torch_geometric.data import HeteroData\n",
    "hetero_data = HeteroData()#创建空异构图\n",
    "```\n",
    "\n",
    "### 节点\n",
    "- 添加新的节点类\n",
    "异构图的存储类似与字典，因此可以直接通过下标来添加新的节点类\\\n",
    "`hetero_data['new_node_type'].x = torch.randn(num_nodes,num_nodes_features)`\n",
    "- 添加新结点:由于节点的存储是矩阵，每一行是一个结点，因此只需要创建相同特征的`tensor`并且`cat`到特征矩阵x上即可:\\\n",
    "`new_nodes_features = torch.randn(2, 4)`\\\n",
    "`hetero_data['existing_node_type'].x = torch.cat([hetero_data['existing_node_type'].x, new_nodes_features], dim=0)`\n",
    "\n",
    "### 边\n",
    "- 添加边的范式:\\\n",
    "`hetero_graph['source', 'relation', 'target'].edge_index=torch.tensor[source_list,target_list]`\\\n",
    "例如:假设第1种农药可以防治第1种和第2种病害\\\n",
    "`hetero_graph['pesticide', 'prevents', 'disease'].edge_index = torch.tensor([[0, 0], [0, 1]])`\\\n",
    "- 可以通过`edge_attr`来构建边的特征\\\n",
    "`hetero_graph['pesticide', 'prevents', 'disease'].edge_attr = torch.randn(2, 2)`"
   ]
  },
  {
   "cell_type": "code",
   "execution_count": 13,
   "metadata": {},
   "outputs": [
    {
     "data": {
      "text/plain": [
       "HeteroData(\n",
       "  pesticide={ x=[3, 5] },\n",
       "  disease={ x=[4, 5] },\n",
       "  plant={ x=[2, 5] },\n",
       "  (pesticide, prevents, disease)={\n",
       "    edge_index=[2, 2],\n",
       "    edge_attr=[2, 2],\n",
       "  },\n",
       "  (disease, affects, plant)={\n",
       "    edge_index=[2, 3],\n",
       "    edge_attr=[3, 2],\n",
       "  }\n",
       ")"
      ]
     },
     "execution_count": 13,
     "metadata": {},
     "output_type": "execute_result"
    }
   ],
   "source": [
    "import torch\n",
    "from torch_geometric.data import HeteroData\n",
    "# 创建HeteroData对象\n",
    "hetero_graph = HeteroData()\n",
    "\n",
    "# 假设我们有3种农药，每种农药的特征维度为5\n",
    "hetero_graph['pesticide'].x = torch.randn(3, 5)\n",
    "# 假设有4种病害，每种病害的特征维度为5\n",
    "hetero_graph['disease'].x = torch.randn(4, 5)\n",
    "\n",
    "# 假设有2种植物，每种植物的特征维度为5\n",
    "hetero_graph['plant'].x = torch.randn(2, 5)\n",
    "# 定义农药到病害的\"防治\"关系\n",
    "# 假设第1种农药可以防治第1种和第2种病害\n",
    "hetero_graph['pesticide', 'prevents', 'disease'].edge_index = torch.tensor(\n",
    "    [[0, 0], [0, 1]], dtype=torch.long)\n",
    "\n",
    "# 定义病害到植物的\"影响\"关系\n",
    "# 假设第1种病害影响第1种植物，第2种和第3种病害影响第2种植物\n",
    "hetero_graph['disease', 'affects', 'plant'].edge_index = torch.tensor(\n",
    "    [[0, 1, 2], [0, 1, 1]], dtype=torch.long)\n",
    "# 为\"防治\"关系添加特征，假设特征维度为2\n",
    "hetero_graph['pesticide', 'prevents', 'disease'].edge_attr = torch.randn(2, 2)\n",
    "# 为\"影响\"关系添加特征，假设特征维度为3\n",
    "hetero_graph['disease', 'affects', 'plant'].edge_attr = torch.randn(3, 2)\n",
    "hetero_graph\n"
   ]
  },
  {
   "cell_type": "code",
   "execution_count": 27,
   "metadata": {},
   "outputs": [
    {
     "data": {
      "text/plain": [
       "HeteroData(\n",
       "  pesticide={\n",
       "    x=[50, 3840],\n",
       "    num_nodes=30,\n",
       "  },\n",
       "  pests={\n",
       "    x=[39, 768],\n",
       "    num_nodes=39,\n",
       "  },\n",
       "  hosts={\n",
       "    x=[46, 768],\n",
       "    num_nodes=46,\n",
       "  },\n",
       "  (pesticide, prevents, pests)={ edge_index=[2, 97] },\n",
       "  (pests, affects, hosts)={ edge_index=[2, 299] },\n",
       "  (pesticide, heal, hosts)={ edge_index=[2, 299] }\n",
       ")"
      ]
     },
     "execution_count": 27,
     "metadata": {},
     "output_type": "execute_result"
    }
   ],
   "source": [
    "import  pickle\n",
    "#从自己构建的数据中读取hetero_graph 对象\n",
    "with open('data/hetero_graph.pkl', 'rb') as f:\n",
    "    hetero_graph=pickle.load(f)\n",
    "hetero_graph"
   ]
  },
  {
   "cell_type": "markdown",
   "metadata": {},
   "source": [
    "### Transforms\n",
    "#### RandomLinkSplit\n",
    "`RandomLinkSplit` 主要用于图数据的链接预测任务中。为了训练和测试链接预测模型，需要将图中的边分成训练集、验证集和测试集。`RandomLinkSplit` 正是为了执行这个任务而设计的。\n",
    "\n",
    "```python\n",
    "class RandomLinkSplit(num_val, num_test, is_undirected, key, split_labels, add_negative_train_samples, neg_sampling_ratio, disjoint_train_ratio, edge_types, rev_edge_types)\n",
    "\n",
    "\n",
    "```\n",
    "\n",
    "- **num_val** (float): 用于验证集的边的比例,默认`0.1`。例如，`0.1` 表示10%的边将用于验证集。\n",
    "\n",
    "- **num_test** (float): 用于测试集的边的比例,默认`0.2`。同样，`0.2` 表示10%的边将用于测试集。\n",
    "\n",
    "- **disjoint_train_ratio** (float): 这个参数定义了在训练集中保留为不相交训练样本的边的比例，默认为`0` 。`disjoint_train_ratio=0.3` 表示30%的训练边将被保留为不相交的\n",
    "\n",
    "- **neg_sampling_ratio** (float): 正样本到负样本的采样比例。`2.0` 意味着对于每个正样本（实际存在的边），将生成两个负样本（不存在的边）。\n",
    "\n",
    "- **add_negative_train_samples** (bool): 指示是否为链接预测添加负训练样本。如果模型已经执行了负采样，则应将此选项设置为 `False`。否则，除非再次执行负采样，训练迭代中添加的负样本将是相同的。\n",
    "\n",
    "- **edge_types** (tuple): 指定边类型的元组`(soure,relation,target)`。在异构图中，节点和边可以有不同的类型。这个参数允许指定边的类型，例如，在一个用户评分电影的场景中，边的类型可以是 (\"user\", \"rates\", \"movie\")。\n",
    "\n",
    "- **rev_edge_types** (tuple): 指定反向边类型的元组。用于有向图，可以帮助模型学习从另一个方向的连接模式。例如，在上述用户评分电影的场景中，反向边的类型可以是 (\"movie\", \"rev_rates\", \"user\")。\n",
    "```python\n",
    "# 例子:\n",
    "import torch_geometric.transforms as T\n",
    "transform = T.RandomLinkSplit(\n",
    "    num_val=0.1,\n",
    "    num_test=0.1,\n",
    "    disjoint_train_ratio=0.3,\n",
    "    neg_sampling_ratio=2.0,\n",
    "    add_negative_train_samples=False,\n",
    "    edge_types=(\"user\", \"rates\", \"movie\"),\n",
    "    rev_edge_types=(\"movie\", \"rev_rates\", \"user\"), \n",
    ")\n",
    "train_data, val_data, test_data = transform(data)\n",
    "```"
   ]
  },
  {
   "cell_type": "markdown",
   "metadata": {},
   "source": [
    "### loader\n",
    "torch_geometric.loader是用于训练和测试的数据加载器，可以用于加载图数据，例如`torch_geometric.data.Data`和`torch_geometric.data.HeteroData`对象。\\\n",
    "#### LinkNeighborLoader\n",
    "在 PyTorch Geometric (PyG) 中，`LinkNeighborLoader` 是一种专门为链接预测任务设计的数据加载器。为了有效地训练链接预测模型，需要从图中采样边和它们相应的邻居节点。`LinkNeighborLoader` 通过为每个训练批次中的边采样固定数量的邻居节点，以及进行负采样来生成不存在的边\n",
    "```python\n",
    "class LinkNeighborLoader(data,num_neighbors,neg_sampling_ratio,edge_label_index,edge_label,batch_size,shuffle)\n",
    "\n",
    "```\n",
    ">实际上完全的LinkNeighborLoader的构造函数还有很多参数，这里只列出常用部分，详细参数见[官方文档](https://pytorch-geometric.readthedocs.io/en/latest/modules/data.html#torch_geometric.loader.LinkNeighborLoader)\n",
    "\n",
    "\n",
    "- **data**: 这是要加载的数据，通常是一个包含图结构的 `data` 对象。\n",
    "\n",
    "- **num_neighbors**: 为每个边采样的邻居节点数量。在这个例子中，`num_neighbors=[20, 10]` 表示在第一层采样20个邻居节点，在第二层采样10个邻居节点。这对于构建用于训练的子图非常有用，特别是在处理大图时，可以显著减少计算资源的需求。\n",
    "\n",
    "- **neg_sampling_ratio**: 正样本到负样本的采样比例。`2.0` 表示对于每个正样本（实际存在的边），将生成两个负样本（不存在的边）。\n",
    "\n",
    "- **edge_label_index**: 用于链接预测的边的索引。在这个例子中，它被设置为 `((\"user\", \"rates\", \"movie\"), edge_label_index)`，这意味着考虑的边是从 \"user\" 节点到 \"movie\" 节点，并通过 \"rates\" 类型的关系连接。`edge_label_index` 是一个包含边起始和结束节点索引的张量,一般由torch的transformer模块中的各种linkSplit生成。\n",
    "\n",
    "- **edge_label**: 边的标签。用于指示边存在(1)或不存在(0)（正样本或负样本）。\n",
    "\n",
    "- **batch_size**: 每个批次的大小，这里是128。这意味着每个批次将包含128个边（不考虑负采样）。\n",
    "\n",
    "- **shuffle**: 是否在每个训练周期开始时打乱数据。设置为 `True` 可以帮助减少模型训练时的过拟合风险。\n",
    "```python\n",
    "\n",
    "# 例子\n",
    "train_loader = LinkNeighborLoader(\n",
    "    data=train_data,\n",
    "    num_neighbors=[20, 10],\n",
    "    neg_sampling_ratio=2.0,\n",
    "    edge_label_index=((\"user\", \"rates\", \"movie\"), edge_label_index),\n",
    "    edge_label=edge_label,\n",
    "    batch_size=128,\n",
    "    shuffle=True,\n",
    ")\n",
    "```"
   ]
  }
 ],
 "metadata": {
  "kernelspec": {
   "display_name": "Python 3",
   "language": "python",
   "name": "python3"
  },
  "language_info": {
   "codemirror_mode": {
    "name": "ipython",
    "version": 3
   },
   "file_extension": ".py",
   "mimetype": "text/x-python",
   "name": "python",
   "nbconvert_exporter": "python",
   "pygments_lexer": "ipython3",
   "version": "3.10.12"
  }
 },
 "nbformat": 4,
 "nbformat_minor": 2
}

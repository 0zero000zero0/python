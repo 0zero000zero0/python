{
 "cells": [
  {
   "cell_type": "code",
   "execution_count": null,
   "metadata": {},
   "outputs": [],
   "source": [
    "import  numpy as np\n",
    "import  matplotlib.pyplot as plt"
   ]
  },
  {
   "cell_type": "markdown",
   "metadata": {},
   "source": [
    "### 生成全排列\n",
    "#### 枚举前缀法\n",
    "当n=1时，$perm(R)=(r)$,其中r是集合R中唯一的元素；\n",
    "\n",
    "\n",
    "当n>1时，$perm(R)由(r1)perm(R1)，(r2)perm(R2)，…，(rn)perm(Rn)$构成。 "
   ]
  },
  {
   "cell_type": "code",
   "execution_count": 9,
   "metadata": {},
   "outputs": [
    {
     "data": {
      "text/plain": [
       "[[1, 2, 3], [1, 3, 2], [2, 1, 3], [2, 3, 1], [3, 1, 2], [3, 2, 1]]"
      ]
     },
     "execution_count": 9,
     "metadata": {},
     "output_type": "execute_result"
    }
   ],
   "source": [
    "from copy import  deepcopy\n",
    "def perm1(R:list):\n",
    "    n = len(R)\n",
    "    if (n == 1):\n",
    "        # 当只有一个元素时，说明前缀已经排列好了\n",
    "        # 递归终止\n",
    "        return [[R[0]]]\n",
    "    res = []\n",
    "    for i in range(n):\n",
    "        Ri = deepcopy(R)\n",
    "        del Ri[i] #去除一个元素\n",
    "        PRi = perm1(Ri) #去除一个元素后的排列\n",
    "        for lst in PRi:\n",
    "            lst.insert(0, R[i])\n",
    "            res.append(lst)\n",
    "    return res\n",
    "\n",
    "\n",
    "A = [1,2,3]\n",
    "\n",
    "perm1(A)"
   ]
  },
  {
   "cell_type": "markdown",
   "metadata": {},
   "source": [
    "#### 最小变化(Minimal-change)的减一算法\n",
    "\n",
    "如果n = 1，返回1；否则，递归地生成1,2,…,n-1的所有排列，然后把n插入到这些排列中的每一个中。从把n从右到左插入到12...n-1中开始，然后对每个新的排列交换插入的方向。 \n",
    "\n",
    "Example: n=3\n",
    "\n",
    "start\t\t\t\t1 \n",
    "\n",
    "insert 2 into 1 right to left\t12\t21\n",
    "\n",
    "insert 3 into 12 right to left\t123\t132\t312\n",
    "\n",
    "insert 3 into 21 left to right\t321\t231\t213\n"
   ]
  },
  {
   "cell_type": "code",
   "execution_count": 2,
   "metadata": {},
   "outputs": [
    {
     "name": "stdout",
     "output_type": "stream",
     "text": [
      "['a', 'b', 'c']\n",
      "['a', 'c', 'b']\n",
      "['b', 'a', 'c']\n",
      "['b', 'c', 'a']\n",
      "['c', 'b', 'a']\n",
      "['c', 'a', 'b']\n"
     ]
    }
   ],
   "source": [
    "def perm2(R, i=0):\n",
    "    n = len(R)\n",
    "    if i == n:\n",
    "        print(R) \n",
    "        return\n",
    "    for j in range(i, n):  # 从R[i]到R[n-1]都有机会当前缀\n",
    "        R[i], R[j] = R[j], R[i]  # 把第j个元素换到位置i\n",
    "        perm2(R, i+1)\n",
    "        R[i], R[j] = R[j], R[i]  # 还原把第j个元素原位置i\n",
    "\n",
    "\n",
    "perm2(['a', 'b', 'c'])"
   ]
  },
  {
   "cell_type": "markdown",
   "metadata": {},
   "source": [
    "#### 邻位对换法\n",
    "\n",
    "递归基础：如果n为1，则输出当前排列。\n",
    "\n",
    "递归步骤：对于i从0到n-1（包含n-1）：\n",
    "\n",
    "在n-1个元素的子数组上递归调用算法（将第n个元素保持不动）。\n",
    "\n",
    "如果n是奇数，将第i个元素和最后一个元素交换。如果n是偶数，将第一个元素和最后一个元素交换。\n",
    "\n",
    "再次对n-1个元素的子数组递归调用算法"
   ]
  },
  {
   "cell_type": "code",
   "execution_count": 3,
   "metadata": {},
   "outputs": [
    {
     "name": "stdout",
     "output_type": "stream",
     "text": [
      "['a', 'b', 'c']\n",
      "['b', 'a', 'c']\n",
      "['a', 'b', 'c']\n",
      "['c', 'b', 'a']\n",
      "['b', 'c', 'a']\n",
      "['c', 'b', 'a']\n",
      "['c', 'a', 'b']\n",
      "['a', 'c', 'b']\n",
      "['c', 'a', 'b']\n",
      "['c', 'a', 'b']\n",
      "['a', 'c', 'b']\n",
      "['c', 'a', 'b']\n"
     ]
    }
   ],
   "source": [
    "def perm3(R:list,n:int):\n",
    "    if n==1:\n",
    "        print(f\"{R}\")\n",
    "        return \n",
    "    for i in range(n): \n",
    "        perm3(R,n-1)\n",
    "        if n%2==0:\n",
    "            R[0],R[n-1]=R[n-1],R[0]\n",
    "        else:\n",
    "            R[i],R[n-1]=R[n-1],R[i]\n",
    "    perm3(R,n-1)\n",
    "perm3(['a', 'b', 'c'],3)"
   ]
  },
  {
   "cell_type": "markdown",
   "metadata": {},
   "source": [
    "### 正数划分\n",
    "将正整数n表示成一系列正整数之和：n=n1+n2+…+nk，其中n1≥n2≥…≥nk≥1，k≥1。\n",
    "\n",
    "正整数n的这种表示称为正整数n的划分。求正整数n的不同划分个数。 \n",
    "\n",
    "例如正整数6有如下11种不同的划分：\n",
    "\n",
    "    6；\n",
    "\n",
    "    5+1；\n",
    "\n",
    "    4+2，4+1+1；\n",
    "\n",
    "    3+3，3+2+1，3+1+1+1；\n",
    "\n",
    "    2+2+2，2+2+1+1，2+1+1+1+1；\n",
    "\n",
    "    1+1+1+1+1+1。\n",
    "\n",
    "\n",
    "思路:设p(n)为正整数n的划分数，增加一个自变量：将最大加数$n_1$不大于m的划分个数记作q($n_1$,m)\n",
    "\n",
    "这个问题的关键在于理解整数划分的递归定义及其数学意义。你给出的递归式实质上描述了整数划分的两个主要情况，以及如何基于这些情况递归地计算整数n的划分数p(n)，同时考虑最大加数不大于m的划分个数q(n,m)。让我们一步步地详细解释这些概念和递归式。\n",
    "\n",
    "#### 1. q(n,n) = 1 + q(n,n-1)\n",
    "\n",
    "这个递归式表示整数n的划分数，其中最大加数不超过n，可以分为两部分：\n",
    "\n",
    "- **1**：代表n本身的划分（即只有一个加数，它就是n）。这是一个基础情况，因为每个正整数n至少有一种划分，就是其自身。\n",
    "- **q(n,n-1)**：代表所有最大加数不超过n-1的n的划分数量。这是因为除了n本身的划分外，所有其他划分中的最大加数必定小于或等于n-1。\n",
    "\n",
    "这个式子体现了整数n的划分可以通过考虑包含n作为加数的单一划分，加上所有最大加数小于n的划分来得到。\n",
    "\n",
    "#### 2. q(n,m) = q(n,m-1) + q(n-m,m)，对于n>m>1\n",
    "\n",
    "这个递归式处理的是更一般的情况，即计算最大加数不超过m的n的划分数。它基于以下两部分：\n",
    "\n",
    "- **q(n,m-1)**：代表最大加数不超过m-1的n的划分数。这意味着在这部分的所有划分中，没有任何一个加数是m。\n",
    "- **q(n-m,m)**：考虑至少有一个加数是m的所有划分。从n中减去这个m，我们就需要计算剩下的n-m如何划分成最大加数不超过m的划分数。这反映了将问题规模减小的思想。\n",
    "#### 特殊情况\n",
    "- **n<m**:当n小于m时，最大加数不过超过n本身，因此q(n,m)=q(n,n)\n",
    "- **n==m**:此时是原问题\n",
    "#### 边界条件\n",
    "- **m==1**:此时不大于1的划分只有1本身\n"
   ]
  },
  {
   "cell_type": "code",
   "execution_count": 8,
   "metadata": {},
   "outputs": [
    {
     "data": {
      "text/plain": [
       "[[3], [2, 1], [1, 1, 1]]"
      ]
     },
     "execution_count": 8,
     "metadata": {},
     "output_type": "execute_result"
    }
   ],
   "source": [
    "def division_num(n:int,m:int):\n",
    "    if m==1:\n",
    "        return 1\n",
    "    if n<m:\n",
    "        return division_num(n,n)\n",
    "    if n==m:\n",
    "        return 1+division_num(n,n-1)\n",
    "    return division_num(n,m-1)+division_num(n-m,m)\n",
    "\n",
    "def division_method(n, m, prefix=None):\n",
    "    if prefix is None:\n",
    "        prefix = []\n",
    "    # 如果n为0，意味着找到了一种划分方法，返回包含当前划分的列表。\n",
    "    if n == 0:\n",
    "        return [prefix]\n",
    "    # 如果最大加数m为0或者n小于0（由于错误的调用），没有划分方法，返回空列表。\n",
    "    if m == 0 or n < 0:\n",
    "        return []\n",
    "    result = []\n",
    "    # 当最大加数m>=1时，尝试所有可能的最大加数\n",
    "    for i in range(min(n, m), 0, -1):\n",
    "        # 对于每个可能的最大加数i，递归调用q来处理剩余的数n-i，\n",
    "        # 并将i作为当前划分的一部分加到prefix中。\n",
    "        new_prefix = prefix + [i]\n",
    "        result.extend(division_method(n - i, i, new_prefix))\n",
    "    return result\n",
    "division_method(3,3)"
   ]
  }
 ],
 "metadata": {
  "kernelspec": {
   "display_name": "Python 3",
   "language": "python",
   "name": "python3"
  },
  "language_info": {
   "codemirror_mode": {
    "name": "ipython",
    "version": 3
   },
   "file_extension": ".py",
   "mimetype": "text/x-python",
   "name": "python",
   "nbconvert_exporter": "python",
   "pygments_lexer": "ipython3",
   "version": "3.10.12"
  }
 },
 "nbformat": 4,
 "nbformat_minor": 2
}

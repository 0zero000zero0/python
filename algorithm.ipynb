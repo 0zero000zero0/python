{
 "cells": [
  {
   "cell_type": "code",
   "execution_count": 1,
   "metadata": {},
   "outputs": [],
   "source": [
    "import  numpy as np\n",
    "import  matplotlib.pyplot as plt"
   ]
  },
  {
   "cell_type": "markdown",
   "metadata": {},
   "source": [
    "### 生成全排列\n",
    "#### 枚举前缀法\n",
    "当n=1时，$perm(R)=(r)$,其中r是集合R中唯一的元素；\n",
    "\n",
    "\n",
    "当n>1时，$perm(R)由(r1)perm(R1)，(r2)perm(R2)，…，(rn)perm(Rn)$构成。 "
   ]
  },
  {
   "cell_type": "code",
   "execution_count": 2,
   "metadata": {},
   "outputs": [
    {
     "data": {
      "text/plain": [
       "[[1, 2, 3], [1, 3, 2], [2, 1, 3], [2, 3, 1], [3, 1, 2], [3, 2, 1]]"
      ]
     },
     "execution_count": 2,
     "metadata": {},
     "output_type": "execute_result"
    }
   ],
   "source": [
    "from copy import  deepcopy\n",
    "def perm1(R:list):\n",
    "    n = len(R)\n",
    "    if (n == 1):\n",
    "        # 当只有一个元素时，说明前缀已经排列好了\n",
    "        # 递归终止\n",
    "        return [[R[0]]]\n",
    "    res = []\n",
    "    for i in range(n):\n",
    "        Ri = deepcopy(R)\n",
    "        del Ri[i] #去除一个元素\n",
    "        PRi = perm1(Ri) #去除一个元素后的排列\n",
    "        for lst in PRi:\n",
    "            lst.insert(0, R[i])\n",
    "            res.append(lst)\n",
    "    return res\n",
    "\n",
    "\n",
    "A = [1,2,3]\n",
    "\n",
    "perm1(A)"
   ]
  },
  {
   "cell_type": "markdown",
   "metadata": {},
   "source": [
    "#### 最小变化(Minimal-change)的减一算法\n",
    "\n",
    "如果n = 1，返回1；否则，递归地生成1,2,…,n-1的所有排列，然后把n插入到这些排列中的每一个中。从把n从右到左插入到12...n-1中开始，然后对每个新的排列交换插入的方向。 \n",
    "\n",
    "Example: n=3\n",
    "\n",
    "start\t\t\t\t1 \n",
    "\n",
    "insert 2 into 1 right to left\t12\t21\n",
    "\n",
    "insert 3 into 12 right to left\t123\t132\t312\n",
    "\n",
    "insert 3 into 21 left to right\t321\t231\t213\n"
   ]
  },
  {
   "cell_type": "code",
   "execution_count": 3,
   "metadata": {},
   "outputs": [
    {
     "name": "stdout",
     "output_type": "stream",
     "text": [
      "['a', 'b', 'c']\n",
      "['a', 'c', 'b']\n",
      "['b', 'a', 'c']\n",
      "['b', 'c', 'a']\n",
      "['c', 'b', 'a']\n",
      "['c', 'a', 'b']\n"
     ]
    }
   ],
   "source": [
    "def perm2(R, i=0):\n",
    "    n = len(R)\n",
    "    if i == n:\n",
    "        print(R) \n",
    "        return\n",
    "    for j in range(i, n):  # 从R[i]到R[n-1]都有机会当前缀\n",
    "        R[i], R[j] = R[j], R[i]  # 把第j个元素换到位置i\n",
    "        perm2(R, i+1)\n",
    "        R[i], R[j] = R[j], R[i]  # 还原把第j个元素原位置i\n",
    "\n",
    "\n",
    "perm2(['a', 'b', 'c'])"
   ]
  },
  {
   "cell_type": "markdown",
   "metadata": {},
   "source": [
    "#### 邻位对换法\n",
    "\n",
    "递归基础：如果n为1，则输出当前排列。\n",
    "\n",
    "递归步骤：对于i从0到n-1（包含n-1）：\n",
    "\n",
    "在n-1个元素的子数组上递归调用算法（将第n个元素保持不动）。\n",
    "\n",
    "如果n是奇数，将第i个元素和最后一个元素交换。如果n是偶数，将第一个元素和最后一个元素交换。\n",
    "\n",
    "再次对n-1个元素的子数组递归调用算法"
   ]
  },
  {
   "cell_type": "code",
   "execution_count": 4,
   "metadata": {},
   "outputs": [
    {
     "name": "stdout",
     "output_type": "stream",
     "text": [
      "['a', 'b', 'c']\n",
      "['b', 'a', 'c']\n",
      "['a', 'b', 'c']\n",
      "['c', 'b', 'a']\n",
      "['b', 'c', 'a']\n",
      "['c', 'b', 'a']\n",
      "['c', 'a', 'b']\n",
      "['a', 'c', 'b']\n",
      "['c', 'a', 'b']\n",
      "['c', 'a', 'b']\n",
      "['a', 'c', 'b']\n",
      "['c', 'a', 'b']\n"
     ]
    }
   ],
   "source": [
    "def perm3(R:list,n:int):\n",
    "    if n==1:\n",
    "        print(f\"{R}\")\n",
    "        return \n",
    "    for i in range(n): \n",
    "        perm3(R,n-1)\n",
    "        if n%2==0:\n",
    "            R[0],R[n-1]=R[n-1],R[0]\n",
    "        else:\n",
    "            R[i],R[n-1]=R[n-1],R[i]\n",
    "    perm3(R,n-1)\n",
    "perm3(['a', 'b', 'c'],3)"
   ]
  },
  {
   "cell_type": "markdown",
   "metadata": {},
   "source": [
    "### 正数划分\n",
    "将正整数n表示成一系列正整数之和：n=n1+n2+…+nk，其中n1≥n2≥…≥nk≥1，k≥1。\n",
    "\n",
    "正整数n的这种表示称为正整数n的划分。求正整数n的不同划分个数。 \n",
    "\n",
    "例如正整数6有如下11种不同的划分：\n",
    "\n",
    "    6；\n",
    "\n",
    "    5+1；\n",
    "\n",
    "    4+2，4+1+1；\n",
    "\n",
    "    3+3，3+2+1，3+1+1+1；\n",
    "\n",
    "    2+2+2，2+2+1+1，2+1+1+1+1；\n",
    "\n",
    "    1+1+1+1+1+1。\n",
    "\n",
    "\n",
    "思路:设p(n)为正整数n的划分数，增加一个自变量：将最大加数$n_1$不大于m的划分个数记作q($n_1$,m)\n",
    "\n",
    "这个问题的关键在于理解整数划分的递归定义及其数学意义。你给出的递归式实质上描述了整数划分的两个主要情况，以及如何基于这些情况递归地计算整数n的划分数p(n)，同时考虑最大加数不大于m的划分个数q(n,m)。让我们一步步地详细解释这些概念和递归式。\n",
    "\n",
    "#### 1. q(n,n) = 1 + q(n,n-1)\n",
    "\n",
    "这个递归式表示整数n的划分数，其中最大加数不超过n，可以分为两部分：\n",
    "\n",
    "- **1**：代表n本身的划分（即只有一个加数，它就是n）。这是一个基础情况，因为每个正整数n至少有一种划分，就是其自身。\n",
    "- **q(n,n-1)**：代表所有最大加数不超过n-1的n的划分数量。这是因为除了n本身的划分外，所有其他划分中的最大加数必定小于或等于n-1。\n",
    "\n",
    "这个式子体现了整数n的划分可以通过考虑包含n作为加数的单一划分，加上所有最大加数小于n的划分来得到。\n",
    "\n",
    "#### 2. q(n,m) = q(n,m-1) + q(n-m,m)，对于n>m>1\n",
    "\n",
    "这个递归式处理的是更一般的情况，即计算最大加数不超过m的n的划分数。它基于以下两部分：\n",
    "\n",
    "- **q(n,m-1)**：代表最大加数不超过m-1的n的划分数。这意味着在这部分的所有划分中，没有任何一个加数是m。\n",
    "- **q(n-m,m)**：考虑至少有一个加数是m的所有划分。从n中减去这个m，我们就需要计算剩下的n-m如何划分成最大加数不超过m的划分数。这反映了将问题规模减小的思想。\n",
    "#### 特殊情况\n",
    "- **n<m**:当n小于m时，最大加数不过超过n本身，因此q(n,m)=q(n,n)\n",
    "- **n==m**:此时是原问题\n",
    "#### 边界条件\n",
    "- **m==1**:此时不大于1的划分只有1本身\n"
   ]
  },
  {
   "cell_type": "code",
   "execution_count": 5,
   "metadata": {},
   "outputs": [
    {
     "data": {
      "text/plain": [
       "[[3], [2, 1], [1, 1, 1]]"
      ]
     },
     "execution_count": 5,
     "metadata": {},
     "output_type": "execute_result"
    }
   ],
   "source": [
    "def division_num(n:int,m:int):\n",
    "    if m==1:\n",
    "        return 1\n",
    "    if n<m:\n",
    "        return division_num(n,n)\n",
    "    if n==m:\n",
    "        return 1+division_num(n,n-1)\n",
    "    return division_num(n,m-1)+division_num(n-m,m)\n",
    "\n",
    "def division_method(n, m, prefix=None):\n",
    "    if prefix is None:\n",
    "        prefix = []\n",
    "    # 如果n为0，意味着找到了一种划分方法，返回包含当前划分的列表。\n",
    "    if n == 0:\n",
    "        return [prefix]\n",
    "    # 如果最大加数m为0或者n小于0（由于错误的调用），没有划分方法，返回空列表。\n",
    "    if m == 0 or n < 0:\n",
    "        return []\n",
    "    result = []\n",
    "    # 当最大加数m>=1时，尝试所有可能的最大加数\n",
    "    for i in range(min(n, m), 0, -1):\n",
    "        # 对于每个可能的最大加数i，递归调用q来处理剩余的数n-i，\n",
    "        # 并将i作为当前划分的一部分加到prefix中。\n",
    "        new_prefix = prefix + [i]\n",
    "        result.extend(division_method(n - i, i, new_prefix))\n",
    "    return result\n",
    "division_method(3,3)"
   ]
  },
  {
   "cell_type": "markdown",
   "metadata": {},
   "source": [
    "### 递归时间复杂度主定定理\n",
    "如果我们有规模为n的问题，且我们的算法把该问题分为b个实例，其中有a个需要求解；那么，我们建立运行时间T(n)的递推关系为： \n",
    "$T(n) = aT(n/b) + f(n)$, \\\n",
    "其中f(n)是划分与合并花费的时间。\n",
    "**主定理**: If $f(n) \\in \\Theta(n^d)$ where $d \\leq 0$ in recurrence equation, then\n",
    "\n",
    "$$\n",
    "T(n)\\in\\begin{cases}\\Theta(n^d)&\\text{ if }a\\:<\\:b^d\\\\\\Theta(n^d\\log n)&\\text{ if }a\\:=\\:b^d\\\\\\Theta(n^{\\log_ba})&\\text{ if }a\\:>\\:b^d\\end{cases}\n",
    "$$"
   ]
  },
  {
   "cell_type": "markdown",
   "metadata": {},
   "source": [
    "#### 大整数乘法分治法\n",
    "用数组表示两个很大的正数的乘法，如果采用传统的乘法算法，时间复杂度为O(n^2)。\\\n",
    "分治法可以将时间复杂度降低到$O(n^{log3})$。\n",
    "用A,B表示两个大整数，那么\n",
    "$$\n",
    "A*B=A_1*B_1*10^{n}+(A_1*B_0+A_0*B_1)*10^{\\frac{n}{2}}+A_0*B_0\n",
    "$$\n",
    "其中，$A=A_1*10^{\\frac{n}{2}}+A_0，B=B_1*10^{\\frac{n}{2}}+B_0$,也就是说A 和B是n位的，A1, A2, B1, B2是$\\frac{n}{2}$位的数\\\n",
    "而$A_1*B_0+A_0*B_1$可以用$(A_1*B_2+A_2*B_1)=(A_1+A_2)*(B_1+B_2)-A_1*B_1-A_2*B_2,$来计算\\\n",
    "总共只需要3次递归，每次递归的时间复杂度为O(n)，所以总的时间复杂度为$O(n^{log3})$"
   ]
  },
  {
   "cell_type": "code",
   "execution_count": 21,
   "metadata": {},
   "outputs": [
    {
     "data": {
      "text/plain": [
       "array([1, 3, 5, 7, 6, 4, 2])"
      ]
     },
     "execution_count": 21,
     "metadata": {},
     "output_type": "execute_result"
    }
   ],
   "source": [
    "import numpy as np\n",
    "def multiply(A, B):\n",
    "    if not isinstance(A, np.ndarray):\n",
    "        A, B = np.array(A), np.array(B)\n",
    "    n = A.size\n",
    "    # 递归终止条件\n",
    "    if n == 1:\n",
    "        return np.array([A[0] * B[0]])\n",
    "    # 分治算法：分割数字\n",
    "    m = n // 2\n",
    "    A1, A0 = A[:m], A[m:]\n",
    "    B1, B0 = B[:m], B[m:]\n",
    "    # 递归计算 A1B1, A0B0\n",
    "    A1B1 = multiply(A1, B1)\n",
    "    A0B0 = multiply(A0, B0)\n",
    "    # 交叉项\n",
    "    cross_term = multiply(A1 + A0, B1 + B0) - A1B1 - A0B0\n",
    "    # 最终乘积\n",
    "    result = np.zeros(2 * n)\n",
    "    result[:A1B1.size] += A1B1\n",
    "    result[m:m+cross_term.size] += cross_term\n",
    "    result[2*m:2*m+A0B0.size] += A0B0\n",
    "    # 删除前导0并返回结果\n",
    "    return result[result != 0].astype(int)\n",
    "def carry(A):\n",
    "    n = len(A)\n",
    "    for i in range(n-1,0,-1):\n",
    "        A[i-1] += A[i]//10 \n",
    "        A[i] = A[i]%10\n",
    "    return A\n",
    "def large_number_multiply(A,B):# -> NDArray[Any]:\n",
    "    C = multiply(A,B)\n",
    "    return carry(C)\n",
    "    \n",
    "large_number_multiply([1,1,1,1], [1,2,2,2])"
   ]
  },
  {
   "cell_type": "markdown",
   "metadata": {},
   "source": [
    "### Strassen矩阵乘法\n",
    "对于矩阵A和B，如果采用传统的矩阵乘法算法，时间复杂度为O(n^3)。\\\n",
    "Strassen矩阵乘法可以将时间复杂度降低到$O(n^{log7})\\approx O(n^{2.8})$。\n",
    "算法步骤:先把矩阵乘法分解为4个矩阵乘法，然后再用7次递归来计算这4个矩阵乘法。\\\n",
    "$$\n",
    "\\begin{bmatrix}C_{11}&C_{12}\\\\C_{21}&C_{22}\\end{bmatrix}=\\begin{bmatrix}A_{11}&A_{12}\\\\A_{21}&A_{22}\\end{bmatrix}\\begin{bmatrix}B_{11}&B_{12}\\\\B_{21}&B_{22}\\end{bmatrix}\n",
    "$$\n",
    "对于其中的小矩阵，可以用7次递归来计算\n",
    "$$\n",
    "\\begin{aligned}M_1&=A_{11}(B_{12}-B_{22})\\\\M_2&=(A_{11}+A_{12})B_{22}\\\\M_3&=(A_{21}+A_{22})B_{11}\\\\M_4&=A_{22}(B_{21}-B_{11})\\\\M_5&=(A_{11}+A_{22})(B_{11}+B_{22})\\\\M_6&=(A_{12}-A_{22})(B_{21}+B_{22})\\\\M_7&=(A_{11}-A_{21})(B_{11}+B_{12})\\end{aligned} \\Longrightarrow \\begin{aligned}C_{11}=&M_5+M_4-M_2+M_6\\\\C_{12}=&M_1+M_2\\\\C_{21}=&M_3+M_4\\\\C_{22}=&M_5+M_1-M_3-M_7\\end{aligned}\n",
    "$$"
   ]
  },
  {
   "cell_type": "markdown",
   "metadata": {},
   "source": [
    "### 线性时间选择第K小的数字\n",
    "#### 问题:\n",
    "从一个乱序的数组中平均线性时间内选出第k小的数字\\\n",
    "#### 基本思路\n",
    "线性时间的随机选择思路类似快速排序:\n",
    "1. 随机选择一个枢轴元素\n",
    "2. 对数组进行排序，小于枢轴元素的元素放在左边，大于枢轴元素的元素放在右边\n",
    "3. 如果数组左边的元素个数j小于K，说明我们只是把前j小的元素选到数组左边,还需要继续选择k-j个元素\n",
    "4. 递归排序数组\n",
    "5. 边界条件: 如果数组右边的元素等于k个时，返回枢纽元素\n",
    "\n",
    "#### 算法复杂度分析\n",
    "最坏情况:类似于快速排序，如果每次选择的元素是极值，那么平均需要$O(n^2)$时间\\\n",
    "平均情况:假设数组元素服从均匀分布:\n",
    "1. 分区时间:无论选择的枢轴元素是什么，都需要$O(n)$的时间把数组进行分析\n",
    "2. 在均匀分布情况下，平均选择的枢轴元素会把数组分成$\\frac{1}{2}$\n",
    "3. 递归深度:由于平均会分成原来长度的一半，因此平均递归深度是$O(\\log_2{n})$\n",
    "\n",
    "则$T(n)=T(\\frac{1}{2})+O(n)$，由主定理得:\n",
    "$T(n)=O(n)$\n"
   ]
  },
  {
   "cell_type": "code",
   "execution_count": 6,
   "metadata": {},
   "outputs": [
    {
     "data": {
      "text/plain": [
       "3"
      ]
     },
     "execution_count": 6,
     "metadata": {},
     "output_type": "execute_result"
    }
   ],
   "source": [
    "import random\n",
    "\n",
    "def randomized_partition(a, p, r):\n",
    "    i = random.randint(p, r)\n",
    "    a[r], a[i] = a[i], a[r] \n",
    "    pivot = a[r]\n",
    "    i = p - 1\n",
    "    for j in range(p, r):\n",
    "        if a[j] <= pivot:\n",
    "            i += 1\n",
    "            a[i], a[j] = a[j], a[i]\n",
    "    a[i+1], a[r] = a[r], a[i+1] \n",
    "    return i + 1\n",
    "\n",
    "\n",
    "def randomized_select(a, p, r, k):\n",
    "    if p == r:\n",
    "        return a[p]\n",
    "    i = randomized_partition(a, p, r)\n",
    "    j = i - p + 1 \n",
    "    if k <= j:\n",
    "        return randomized_select(a, p, i, k)\n",
    "    else:\n",
    "        return randomized_select(a, i + 1, r, k - j)\n",
    "\n",
    "a=[1,2,3,4,5]\n",
    "randomized_select(a, 0,len(a)-1,3)"
   ]
  }
 ],
 "metadata": {
  "kernelspec": {
   "display_name": "Python 3",
   "language": "python",
   "name": "python3"
  },
  "language_info": {
   "codemirror_mode": {
    "name": "ipython",
    "version": 3
   },
   "file_extension": ".py",
   "mimetype": "text/x-python",
   "name": "python",
   "nbconvert_exporter": "python",
   "pygments_lexer": "ipython3",
   "version": "3.10.12"
  }
 },
 "nbformat": 4,
 "nbformat_minor": 2
}
